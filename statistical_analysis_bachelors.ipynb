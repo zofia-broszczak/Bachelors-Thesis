{
  "cells": [
    {
      "cell_type": "markdown",
      "source": [
        "#Packages"
      ],
      "metadata": {
        "id": "PpHUOYjCvkpi"
      }
    },
    {
      "cell_type": "code",
      "source": [
        "install.packages(\"googlesheets4\")\n",
        "install.packages(\"dplyr\")\n",
        "install.packages(\"tidyverse\")\n",
        "install.packages(\"MASS\")"
      ],
      "metadata": {
        "colab": {
          "base_uri": "https://localhost:8080/"
        },
        "id": "AGnEoiF15EIB",
        "outputId": "9ca24759-a4fc-4ef2-8d02-4c3b29ad74ed"
      },
      "execution_count": 51,
      "outputs": [
        {
          "output_type": "stream",
          "name": "stderr",
          "text": [
            "Installing package into ‘/usr/local/lib/R/site-library’\n",
            "(as ‘lib’ is unspecified)\n",
            "\n",
            "Installing package into ‘/usr/local/lib/R/site-library’\n",
            "(as ‘lib’ is unspecified)\n",
            "\n",
            "Installing package into ‘/usr/local/lib/R/site-library’\n",
            "(as ‘lib’ is unspecified)\n",
            "\n",
            "Installing package into ‘/usr/local/lib/R/site-library’\n",
            "(as ‘lib’ is unspecified)\n",
            "\n"
          ]
        }
      ]
    },
    {
      "cell_type": "code",
      "execution_count": 52,
      "metadata": {
        "id": "thf1y7k8o-CJ"
      },
      "outputs": [],
      "source": [
        "library(googlesheets4)\n",
        "library(dplyr)\n",
        "library(tidyverse)\n",
        "library(MASS)"
      ]
    },
    {
      "cell_type": "markdown",
      "source": [
        "#Data"
      ],
      "metadata": {
        "id": "xcSGTbUHvn_L"
      }
    },
    {
      "cell_type": "code",
      "execution_count": 63,
      "metadata": {
        "colab": {
          "base_uri": "https://localhost:8080/"
        },
        "id": "7hnooWfGpL9Q",
        "outputId": "70014c7d-56a8-4679-c11e-0b896da78bad"
      },
      "outputs": [
        {
          "output_type": "stream",
          "name": "stderr",
          "text": [
            "\u001b[1m\u001b[22mThe \u001b[34mgooglesheets4\u001b[39m package is requesting access to your Google account.\n",
            "Enter '1' to start a new auth process or select a pre-authorized account.\n",
            "\u001b[1m1\u001b[22m: Send me to the browser for a new auth process.\n",
            "\u001b[1m2\u001b[22m: z.broszczak@student.uw.edu.pl\n"
          ]
        },
        {
          "name": "stdout",
          "output_type": "stream",
          "text": [
            "Selection: 2\n"
          ]
        }
      ],
      "source": [
        "gs4_auth()\n",
        "sheet_url <- 'https://docs.google.com/spreadsheets/d/1-esORqcQagHMnPjT1VlHSjNeAMHNG0bIi4EX1n6EuNU/edit'"
      ]
    },
    {
      "cell_type": "code",
      "execution_count": 64,
      "metadata": {
        "colab": {
          "base_uri": "https://localhost:8080/"
        },
        "id": "JCqH99iipPtV",
        "outputId": "a53653f0-e8c0-4747-bd79-ed6079837ed7"
      },
      "outputs": [
        {
          "output_type": "stream",
          "name": "stderr",
          "text": [
            "\u001b[32m✔\u001b[39m Reading from \"\u001b[36mBadanie Licencjackie Zofia Broszczak (Odpowiedzi)\u001b[39m\".\n",
            "\n",
            "\u001b[32m✔\u001b[39m Range '\u001b[33m'Online bezpośrednie'\u001b[39m'.\n",
            "\n",
            "\u001b[32m✔\u001b[39m Reading from \"\u001b[36mBadanie Licencjackie Zofia Broszczak (Odpowiedzi)\u001b[39m\".\n",
            "\n",
            "\u001b[32m✔\u001b[39m Range '\u001b[33m'Offline bezpośrednie'\u001b[39m'.\n",
            "\n",
            "\u001b[32m✔\u001b[39m Reading from \"\u001b[36mBadanie Licencjackie Zofia Broszczak (Odpowiedzi)\u001b[39m\".\n",
            "\n",
            "\u001b[32m✔\u001b[39m Range '\u001b[33m'Offline RR'\u001b[39m'.\n",
            "\n",
            "\u001b[32m✔\u001b[39m Reading from \"\u001b[36mBadanie Licencjackie Zofia Broszczak (Odpowiedzi)\u001b[39m\".\n",
            "\n",
            "\u001b[32m✔\u001b[39m Range '\u001b[33m'Online RR'\u001b[39m'.\n",
            "\n"
          ]
        }
      ],
      "source": [
        "sheet1 <- read_sheet(sheet_url, sheet = 1)\n",
        "sheet2 <- read_sheet(sheet_url, sheet = 2)\n",
        "sheet3 <- read_sheet(sheet_url, sheet = 3)\n",
        "sheet4 <- read_sheet(sheet_url, sheet = 4)"
      ]
    },
    {
      "cell_type": "code",
      "execution_count": 65,
      "metadata": {
        "id": "M2zD1ADDpQNs"
      },
      "outputs": [],
      "source": [
        "dane <- bind_rows(sheet1, sheet2, sheet3, sheet4)"
      ]
    },
    {
      "cell_type": "code",
      "execution_count": 66,
      "metadata": {
        "id": "q1uLe2XfpSqU"
      },
      "outputs": [],
      "source": [
        "freq <- table(dane[c(\"Odp\", \"Grupa\")])\n",
        "freq2 <- table(dane[c(\"Grupa\")])"
      ]
    },
    {
      "cell_type": "code",
      "execution_count": 67,
      "metadata": {
        "colab": {
          "base_uri": "https://localhost:8080/",
          "height": 86
        },
        "id": "h-cmx-bYGVNd",
        "outputId": "a7e37f16-08ae-4b8e-cdb9-74b68fe8d750"
      },
      "outputs": [
        {
          "output_type": "display_data",
          "data": {
            "text/plain": [
              "     Grupa\n",
              "Odp    1  2  3  4\n",
              "  Nie 12  8  8  9\n",
              "  Tak  8  5  6 14"
            ]
          },
          "metadata": {}
        }
      ],
      "source": [
        "freq"
      ]
    },
    {
      "cell_type": "code",
      "execution_count": 68,
      "metadata": {
        "colab": {
          "base_uri": "https://localhost:8080/",
          "height": 69
        },
        "id": "wV3QnXUPpXKT",
        "outputId": "32fef790-aeab-41db-b8ae-c9cd55af8982"
      },
      "outputs": [
        {
          "output_type": "display_data",
          "data": {
            "text/plain": [
              "Grupa\n",
              " 1  2  3  4 \n",
              "20 13 14 23 "
            ]
          },
          "metadata": {}
        }
      ],
      "source": [
        "freq2"
      ]
    },
    {
      "cell_type": "code",
      "execution_count": 69,
      "metadata": {
        "colab": {
          "base_uri": "https://localhost:8080/"
        },
        "id": "zYFaVmWmlU09",
        "outputId": "a4e7a53f-c0dd-4651-9e54-d6400905e380"
      },
      "outputs": [
        {
          "output_type": "stream",
          "name": "stdout",
          "text": [
            "            1         2         3         4\n",
            "Nie 0.6000000 0.6153846 0.5714286 0.3913043\n",
            "Tak 0.4000000 0.3846154 0.4285714 0.6086957\n"
          ]
        }
      ],
      "source": [
        "freq_df <- as.data.frame.matrix(freq)\n",
        "total_counts <- as.numeric(freq2)\n",
        "normalized_freq_df <- sweep(freq_df, 2, total_counts, \"/\")\n",
        "normalized_freq <- as.table(as.matrix(normalized_freq_df))\n",
        "\n",
        "print(normalized_freq)"
      ]
    },
    {
      "cell_type": "markdown",
      "source": [
        "#Example"
      ],
      "metadata": {
        "id": "nZ9F2y5avbgz"
      }
    },
    {
      "cell_type": "code",
      "execution_count": 70,
      "metadata": {
        "colab": {
          "base_uri": "https://localhost:8080/",
          "height": 52
        },
        "id": "dN2jqmf3pcXl",
        "outputId": "c3f704d7-451b-4965-f782-8dd46ac06c9a"
      },
      "outputs": [
        {
          "output_type": "display_data",
          "data": {
            "text/html": [
              "2.33333333333333"
            ],
            "text/markdown": "2.33333333333333",
            "text/latex": "2.33333333333333",
            "text/plain": [
              "[1] 2.333333"
            ]
          },
          "metadata": {}
        },
        {
          "output_type": "display_data",
          "data": {
            "text/html": [
              "3.83333333333333"
            ],
            "text/markdown": "3.83333333333333",
            "text/latex": "3.83333333333333",
            "text/plain": [
              "[1] 3.833333"
            ]
          },
          "metadata": {}
        }
      ],
      "source": [
        "total_counts <- c(20, 13, 14, 23)\n",
        "\n",
        "subtract_1_6_group3 <- (total_counts[3])/6\n",
        "subtract_1_6_group4 <- (total_counts[4])/6\n",
        "\n",
        "subtract_1_6_group3\n",
        "subtract_1_6_group4"
      ]
    },
    {
      "cell_type": "code",
      "execution_count": 71,
      "metadata": {
        "colab": {
          "base_uri": "https://localhost:8080/"
        },
        "id": "jCkKk7L7ppju",
        "outputId": "6b6db67f-5c63-4902-a2ac-09a187ff194c"
      },
      "outputs": [
        {
          "output_type": "stream",
          "name": "stdout",
          "text": [
            "     Grupa\n",
            "Odp           1         2         3         4\n",
            "  Nie 12.000000  8.000000  5.666667  5.166667\n",
            "  Tak  8.000000  5.000000  3.666667 10.166667\n"
          ]
        }
      ],
      "source": [
        "freq[\"Tak\", \"3\"] <- freq[\"Tak\", \"3\"] - subtract_1_6_group3\n",
        "freq[\"Nie\", \"3\"] <- freq[\"Nie\", \"3\"] - subtract_1_6_group3\n",
        "\n",
        "freq[\"Tak\", \"4\"] <- freq[\"Tak\", \"4\"] - subtract_1_6_group4\n",
        "freq[\"Nie\", \"4\"] <- freq[\"Nie\", \"4\"] - subtract_1_6_group4\n",
        "print(freq)\n"
      ]
    },
    {
      "cell_type": "code",
      "execution_count": 72,
      "metadata": {
        "id": "6ZCI2zfjXWmX"
      },
      "outputs": [],
      "source": [
        "freq2[\"3\"] <- freq[1,3] +freq[2,3]\n",
        "freq2[\"4\"] <- freq[1,4] +freq[2,4]\n"
      ]
    },
    {
      "cell_type": "code",
      "execution_count": 73,
      "metadata": {
        "colab": {
          "base_uri": "https://localhost:8080/"
        },
        "id": "6z5PMmIkCUQ6",
        "outputId": "f79e1dce-0110-41a7-dd6d-4add6bcf6805"
      },
      "outputs": [
        {
          "output_type": "stream",
          "name": "stdout",
          "text": [
            "            1         2         3         4\n",
            "Nie 0.6000000 0.6153846 0.6071429 0.3369565\n",
            "Tak 0.4000000 0.3846154 0.3928571 0.6630435\n"
          ]
        }
      ],
      "source": [
        "freq_df <- as.data.frame.matrix(freq)\n",
        "total_counts <- as.numeric(freq2)\n",
        "normalized_freq_df <- sweep(freq_df, 2, total_counts, \"/\")\n",
        "normalized_freq <- as.table(as.matrix(normalized_freq_df))\n",
        "\n",
        "print(normalized_freq)"
      ]
    },
    {
      "cell_type": "code",
      "execution_count": 74,
      "metadata": {
        "colab": {
          "base_uri": "https://localhost:8080/",
          "height": 52
        },
        "id": "h8hjNdfNXs2I",
        "outputId": "4d261994-8d6c-4ea4-a88c-a61c3e8e95ea"
      },
      "outputs": [
        {
          "output_type": "display_data",
          "data": {
            "text/plain": [
              "        1         2         3         4 \n",
              "20.000000 13.000000  9.333333 15.333333 "
            ]
          },
          "metadata": {}
        }
      ],
      "source": [
        "freq2"
      ]
    },
    {
      "cell_type": "markdown",
      "metadata": {
        "id": "vt9mdAqaWqMs"
      },
      "source": [
        "#H1 : Online directly vs Offline directly (GROUP 1 VS GROUP 2)."
      ]
    },
    {
      "cell_type": "code",
      "execution_count": 75,
      "metadata": {
        "colab": {
          "base_uri": "https://localhost:8080/"
        },
        "id": "7n-EzbW2qFMR",
        "outputId": "1ed04a9b-87bf-427b-df71-9fde9701e12c"
      },
      "outputs": [
        {
          "output_type": "stream",
          "name": "stdout",
          "text": [
            "        1 \n",
            "0.3939394 \n"
          ]
        }
      ],
      "source": [
        "p12 = (freq[2,2] + freq[2,1]) / (freq2[1] + freq2[2])\n",
        "print(p12)"
      ]
    },
    {
      "cell_type": "code",
      "execution_count": 76,
      "metadata": {
        "colab": {
          "base_uri": "https://localhost:8080/"
        },
        "id": "rJ8IBti1vBFq",
        "outputId": "825a112e-30af-449b-8506-7cbdbc5197ce"
      },
      "outputs": [
        {
          "output_type": "stream",
          "name": "stdout",
          "text": [
            "           1 \n",
            "\"0.01538462\" \n"
          ]
        }
      ],
      "source": [
        "observed_diff_p12 = abs(freq[2,1]/freq2[1]-freq[2,2]/freq2[2])\n",
        "observed_diff_p12 = format(observed_diff_p12, scientific = FALSE)\n",
        "print(observed_diff_p12)"
      ]
    },
    {
      "cell_type": "code",
      "execution_count": 77,
      "metadata": {
        "colab": {
          "base_uri": "https://localhost:8080/"
        },
        "id": "xkJ2_XHSvBa7",
        "outputId": "6036e758-8948-4353-ff5a-a4660e29374b"
      },
      "outputs": [
        {
          "output_type": "stream",
          "name": "stdout",
          "text": [
            " [1] 4.470140e-05 5.811182e-04 3.588405e-03 1.399478e-02 3.866058e-02\n",
            " [6] 8.041400e-02 1.306727e-01 1.698746e-01 1.794300e-01 1.555060e-01\n",
            "[11] 1.111868e-01 6.570129e-02 3.202938e-02 1.281175e-02 4.163819e-03\n",
            "[16] 1.082593e-03 2.199017e-04 3.363203e-05 3.643469e-06 2.492900e-07\n",
            "[21] 8.101926e-09\n"
          ]
        }
      ],
      "source": [
        "l1<- 0:20\n",
        "\n",
        "lista_gr1_p12 <- numeric(length(l1))\n",
        "\n",
        "for (i in l1) {\n",
        "  lista_gr1_p12[i + 1] <- dbinom(i, size = 20, prob = p12)\n",
        "}\n",
        "\n",
        "print(lista_gr1_p12)"
      ]
    },
    {
      "cell_type": "code",
      "execution_count": 78,
      "metadata": {
        "colab": {
          "base_uri": "https://localhost:8080/"
        },
        "id": "WFrZeRNnvBfv",
        "outputId": "4e70d4e8-191f-4df3-e978-c69bdbe39374"
      },
      "outputs": [
        {
          "output_type": "stream",
          "name": "stdout",
          "text": [
            " [1] 1.488363e-03 1.257666e-02 4.904899e-02 1.169001e-01 1.899626e-01\n",
            " [6] 2.222563e-01 1.926221e-01 1.252044e-01 6.103713e-02 2.204119e-02\n",
            "[11] 5.730709e-03 1.015898e-03 1.100557e-04 5.502783e-06\n"
          ]
        }
      ],
      "source": [
        "l2 <- 0:13\n",
        "\n",
        "lista_gr2_p12 <- numeric(length(l2))\n",
        "\n",
        "for (i in l2) {\n",
        "  lista_gr2_p12[i + 1] <- dbinom(i, size = 13, prob = p12)\n",
        "}\n",
        "\n",
        "print(lista_gr2_p12)"
      ]
    },
    {
      "cell_type": "code",
      "execution_count": 79,
      "metadata": {
        "colab": {
          "base_uri": "https://localhost:8080/"
        },
        "id": "Mtkmt0MfvBj7",
        "outputId": "2f817847-1ccd-4a31-9fd4-77da67e6b0b5"
      },
      "outputs": [
        {
          "output_type": "stream",
          "name": "stdout",
          "text": [
            "      [,1]       [,2]       [,3]       [,4]       [,5]       [,6]      \n",
            " [1,] \"0.000000\" \"0.000001\" \"0.000002\" \"0.000005\" \"0.000008\" \"0.000010\"\n",
            " [2,] \"0.000001\" \"0.000007\" \"0.000029\" \"0.000068\" \"0.000110\" \"0.000129\"\n",
            " [3,] \"0.000005\" \"0.000045\" \"0.000176\" \"0.000419\" \"0.000682\" \"0.000798\"\n",
            " [4,] \"0.000021\" \"0.000176\" \"0.000686\" \"0.001636\" \"0.002658\" \"0.003110\"\n",
            " [5,] \"0.000058\" \"0.000486\" \"0.001896\" \"0.004519\" \"0.007344\" \"0.008593\"\n",
            " [6,] \"0.000120\" \"0.001011\" \"0.003944\" \"0.009400\" \"0.015276\" \"0.017873\"\n",
            " [7,] \"0.000194\" \"0.001643\" \"0.006409\" \"0.015276\" \"0.024823\" \"0.029043\"\n",
            " [8,] \"0.000253\" \"0.002136\" \"0.008332\" \"0.019858\" \"0.032270\" \"0.037756\"\n",
            " [9,] \"0.000267\" \"0.002257\" \"0.008801\" \"0.020975\" \"0.034085\" \"0.039879\"\n",
            "[10,] \"0.000231\" \"0.001956\" \"0.007627\" \"0.018179\" \"0.029540\" \"0.034562\"\n",
            "[11,] \"0.000165\" \"0.001398\" \"0.005454\" \"0.012998\" \"0.021121\" \"0.024712\"\n",
            "[12,] \"0.000098\" \"0.000826\" \"0.003223\" \"0.007680\" \"0.012481\" \"0.014603\"\n",
            "[13,] \"0.000048\" \"0.000403\" \"0.001571\" \"0.003744\" \"0.006084\" \"0.007119\"\n",
            "[14,] \"0.000019\" \"0.000161\" \"0.000628\" \"0.001498\" \"0.002434\" \"0.002847\"\n",
            "[15,] \"0.000006\" \"0.000052\" \"0.000204\" \"0.000487\" \"0.000791\" \"0.000925\"\n",
            "[16,] \"0.000002\" \"0.000014\" \"0.000053\" \"0.000127\" \"0.000206\" \"0.000241\"\n",
            "[17,] \"0.000000\" \"0.000003\" \"0.000011\" \"0.000026\" \"0.000042\" \"0.000049\"\n",
            "[18,] \"0.000000\" \"0.000000\" \"0.000002\" \"0.000004\" \"0.000006\" \"0.000007\"\n",
            "[19,] \"0.000000\" \"0.000000\" \"0.000000\" \"0.000000\" \"0.000001\" \"0.000001\"\n",
            "[20,] \"0.000000\" \"0.000000\" \"0.000000\" \"0.000000\" \"0.000000\" \"0.000000\"\n",
            "[21,] \"0.000000\" \"0.000000\" \"0.000000\" \"0.000000\" \"0.000000\" \"0.000000\"\n",
            "      [,7]       [,8]       [,9]       [,10]      [,11]      [,12]     \n",
            " [1,] \"0.000009\" \"0.000006\" \"0.000003\" \"0.000001\" \"0.000000\" \"0.000000\"\n",
            " [2,] \"0.000112\" \"0.000073\" \"0.000035\" \"0.000013\" \"0.000003\" \"0.000001\"\n",
            " [3,] \"0.000691\" \"0.000449\" \"0.000219\" \"0.000079\" \"0.000021\" \"0.000004\"\n",
            " [4,] \"0.002696\" \"0.001752\" \"0.000854\" \"0.000308\" \"0.000080\" \"0.000014\"\n",
            " [5,] \"0.007447\" \"0.004840\" \"0.002360\" \"0.000852\" \"0.000222\" \"0.000039\"\n",
            " [6,] \"0.015490\" \"0.010068\" \"0.004908\" \"0.001772\" \"0.000461\" \"0.000082\"\n",
            " [7,] \"0.025170\" \"0.016361\" \"0.007976\" \"0.002880\" \"0.000749\" \"0.000133\"\n",
            " [8,] \"0.032722\" \"0.021269\" \"0.010369\" \"0.003744\" \"0.000974\" \"0.000173\"\n",
            " [9,] \"0.034562\" \"0.022465\" \"0.010952\" \"0.003955\" \"0.001028\" \"0.000182\"\n",
            "[10,] \"0.029954\" \"0.019470\" \"0.009492\" \"0.003428\" \"0.000891\" \"0.000158\"\n",
            "[11,] \"0.021417\" \"0.013921\" \"0.006787\" \"0.002451\" \"0.000637\" \"0.000113\"\n",
            "[12,] \"0.012656\" \"0.008226\" \"0.004010\" \"0.001448\" \"0.000377\" \"0.000067\"\n",
            "[13,] \"0.006170\" \"0.004010\" \"0.001955\" \"0.000706\" \"0.000184\" \"0.000033\"\n",
            "[14,] \"0.002468\" \"0.001604\" \"0.000782\" \"0.000282\" \"0.000073\" \"0.000013\"\n",
            "[15,] \"0.000802\" \"0.000521\" \"0.000254\" \"0.000092\" \"0.000024\" \"0.000004\"\n",
            "[16,] \"0.000209\" \"0.000136\" \"0.000066\" \"0.000024\" \"0.000006\" \"0.000001\"\n",
            "[17,] \"0.000042\" \"0.000028\" \"0.000013\" \"0.000005\" \"0.000001\" \"0.000000\"\n",
            "[18,] \"0.000006\" \"0.000004\" \"0.000002\" \"0.000001\" \"0.000000\" \"0.000000\"\n",
            "[19,] \"0.000001\" \"0.000000\" \"0.000000\" \"0.000000\" \"0.000000\" \"0.000000\"\n",
            "[20,] \"0.000000\" \"0.000000\" \"0.000000\" \"0.000000\" \"0.000000\" \"0.000000\"\n",
            "[21,] \"0.000000\" \"0.000000\" \"0.000000\" \"0.000000\" \"0.000000\" \"0.000000\"\n",
            "      [,13]      [,14]     \n",
            " [1,] \"0.000000\" \"0.000000\"\n",
            " [2,] \"0.000000\" \"0.000000\"\n",
            " [3,] \"0.000000\" \"0.000000\"\n",
            " [4,] \"0.000002\" \"0.000000\"\n",
            " [5,] \"0.000004\" \"0.000000\"\n",
            " [6,] \"0.000009\" \"0.000000\"\n",
            " [7,] \"0.000014\" \"0.000001\"\n",
            " [8,] \"0.000019\" \"0.000001\"\n",
            " [9,] \"0.000020\" \"0.000001\"\n",
            "[10,] \"0.000017\" \"0.000001\"\n",
            "[11,] \"0.000012\" \"0.000001\"\n",
            "[12,] \"0.000007\" \"0.000000\"\n",
            "[13,] \"0.000004\" \"0.000000\"\n",
            "[14,] \"0.000001\" \"0.000000\"\n",
            "[15,] \"0.000000\" \"0.000000\"\n",
            "[16,] \"0.000000\" \"0.000000\"\n",
            "[17,] \"0.000000\" \"0.000000\"\n",
            "[18,] \"0.000000\" \"0.000000\"\n",
            "[19,] \"0.000000\" \"0.000000\"\n",
            "[20,] \"0.000000\" \"0.000000\"\n",
            "[21,] \"0.000000\" \"0.000000\"\n"
          ]
        }
      ],
      "source": [
        "result_matrix_p12 <- outer(lista_gr1_p12, lista_gr2_p12, FUN = \"*\")\n",
        "result_matrix_p12 <- round(result_matrix_p12, digits = 6)\n",
        "result_matrix_p12 <- format(result_matrix_p12, scientific = FALSE)\n",
        "\n",
        "print(result_matrix_p12)"
      ]
    },
    {
      "cell_type": "code",
      "execution_count": 80,
      "metadata": {
        "id": "yx7xO_W7NgF9"
      },
      "outputs": [],
      "source": [
        "write.matrix(result_matrix_p12, file=\"M_p12.csv\")"
      ]
    },
    {
      "cell_type": "markdown",
      "source": [
        "Create the mask and apply the mask\n"
      ],
      "metadata": {
        "id": "5do6J8-d2ft9"
      }
    },
    {
      "cell_type": "code",
      "execution_count": 81,
      "metadata": {
        "colab": {
          "base_uri": "https://localhost:8080/"
        },
        "id": "ZCQ8RZHIwroD",
        "outputId": "abe34b16-d2c2-4014-b1f3-d45f95a0a48d"
      },
      "outputs": [
        {
          "output_type": "stream",
          "name": "stdout",
          "text": [
            "[1] 21\n",
            "       [,1]  [,2]  [,3]  [,4]  [,5]  [,6]  [,7]  [,8]  [,9] [,10] [,11] [,12]\n",
            " [1,] FALSE FALSE FALSE FALSE FALSE FALSE FALSE FALSE FALSE FALSE FALSE FALSE\n",
            " [2,]  TRUE FALSE FALSE FALSE FALSE FALSE FALSE FALSE FALSE FALSE FALSE FALSE\n",
            " [3,]  TRUE  TRUE FALSE FALSE FALSE FALSE FALSE FALSE FALSE FALSE FALSE FALSE\n",
            " [4,]  TRUE  TRUE FALSE FALSE FALSE FALSE FALSE FALSE FALSE FALSE FALSE FALSE\n",
            " [5,]  TRUE  TRUE  TRUE FALSE FALSE FALSE FALSE FALSE FALSE FALSE FALSE FALSE\n",
            " [6,]  TRUE  TRUE  TRUE  TRUE FALSE FALSE FALSE FALSE FALSE FALSE FALSE FALSE\n",
            " [7,]  TRUE  TRUE  TRUE  TRUE FALSE FALSE FALSE FALSE FALSE FALSE FALSE FALSE\n",
            " [8,]  TRUE  TRUE  TRUE  TRUE  TRUE FALSE FALSE FALSE FALSE FALSE FALSE FALSE\n",
            " [9,]  TRUE  TRUE  TRUE  TRUE  TRUE FALSE FALSE FALSE FALSE FALSE FALSE FALSE\n",
            "[10,]  TRUE  TRUE  TRUE  TRUE  TRUE  TRUE FALSE FALSE FALSE FALSE FALSE FALSE\n",
            "[11,]  TRUE  TRUE  TRUE  TRUE  TRUE  TRUE  TRUE FALSE FALSE FALSE FALSE FALSE\n",
            "[12,]  TRUE  TRUE  TRUE  TRUE  TRUE  TRUE  TRUE FALSE FALSE FALSE FALSE FALSE\n",
            "[13,]  TRUE  TRUE  TRUE  TRUE  TRUE  TRUE  TRUE  TRUE FALSE FALSE FALSE FALSE\n",
            "[14,]  TRUE  TRUE  TRUE  TRUE  TRUE  TRUE  TRUE  TRUE  TRUE FALSE FALSE FALSE\n",
            "[15,]  TRUE  TRUE  TRUE  TRUE  TRUE  TRUE  TRUE  TRUE  TRUE FALSE FALSE FALSE\n",
            "[16,]  TRUE  TRUE  TRUE  TRUE  TRUE  TRUE  TRUE  TRUE  TRUE  TRUE FALSE FALSE\n",
            "[17,]  TRUE  TRUE  TRUE  TRUE  TRUE  TRUE  TRUE  TRUE  TRUE  TRUE  TRUE FALSE\n",
            "[18,]  TRUE  TRUE  TRUE  TRUE  TRUE  TRUE  TRUE  TRUE  TRUE  TRUE  TRUE FALSE\n",
            "[19,]  TRUE  TRUE  TRUE  TRUE  TRUE  TRUE  TRUE  TRUE  TRUE  TRUE  TRUE  TRUE\n",
            "[20,]  TRUE  TRUE  TRUE  TRUE  TRUE  TRUE  TRUE  TRUE  TRUE  TRUE  TRUE  TRUE\n",
            "[21,]  TRUE  TRUE  TRUE  TRUE  TRUE  TRUE  TRUE  TRUE  TRUE  TRUE  TRUE  TRUE\n",
            "      [,13] [,14]\n",
            " [1,] FALSE FALSE\n",
            " [2,] FALSE FALSE\n",
            " [3,] FALSE FALSE\n",
            " [4,] FALSE FALSE\n",
            " [5,] FALSE FALSE\n",
            " [6,] FALSE FALSE\n",
            " [7,] FALSE FALSE\n",
            " [8,] FALSE FALSE\n",
            " [9,] FALSE FALSE\n",
            "[10,] FALSE FALSE\n",
            "[11,] FALSE FALSE\n",
            "[12,] FALSE FALSE\n",
            "[13,] FALSE FALSE\n",
            "[14,] FALSE FALSE\n",
            "[15,] FALSE FALSE\n",
            "[16,] FALSE FALSE\n",
            "[17,] FALSE FALSE\n",
            "[18,] FALSE FALSE\n",
            "[19,] FALSE FALSE\n",
            "[20,]  TRUE FALSE\n",
            "[21,]  TRUE FALSE\n",
            "  [1] \"0.000001\" \"0.000005\" \"0.000021\" \"0.000058\" \"0.000120\" \"0.000194\"\n",
            "  [7] \"0.000253\" \"0.000267\" \"0.000231\" \"0.000165\" \"0.000098\" \"0.000048\"\n",
            " [13] \"0.000019\" \"0.000006\" \"0.000002\" \"0.000000\" \"0.000000\" \"0.000000\"\n",
            " [19] \"0.000000\" \"0.000000\" \"0.000045\" \"0.000176\" \"0.000486\" \"0.001011\"\n",
            " [25] \"0.001643\" \"0.002136\" \"0.002257\" \"0.001956\" \"0.001398\" \"0.000826\"\n",
            " [31] \"0.000403\" \"0.000161\" \"0.000052\" \"0.000014\" \"0.000003\" \"0.000000\"\n",
            " [37] \"0.000000\" \"0.000000\" \"0.000000\" \"0.001896\" \"0.003944\" \"0.006409\"\n",
            " [43] \"0.008332\" \"0.008801\" \"0.007627\" \"0.005454\" \"0.003223\" \"0.001571\"\n",
            " [49] \"0.000628\" \"0.000204\" \"0.000053\" \"0.000011\" \"0.000002\" \"0.000000\"\n",
            " [55] \"0.000000\" \"0.000000\" \"0.009400\" \"0.015276\" \"0.019858\" \"0.020975\"\n",
            " [61] \"0.018179\" \"0.012998\" \"0.007680\" \"0.003744\" \"0.001498\" \"0.000487\"\n",
            " [67] \"0.000127\" \"0.000026\" \"0.000004\" \"0.000000\" \"0.000000\" \"0.000000\"\n",
            " [73] \"0.032270\" \"0.034085\" \"0.029540\" \"0.021121\" \"0.012481\" \"0.006084\"\n",
            " [79] \"0.002434\" \"0.000791\" \"0.000206\" \"0.000042\" \"0.000006\" \"0.000001\"\n",
            " [85] \"0.000000\" \"0.000000\" \"0.034562\" \"0.024712\" \"0.014603\" \"0.007119\"\n",
            " [91] \"0.002847\" \"0.000925\" \"0.000241\" \"0.000049\" \"0.000007\" \"0.000001\"\n",
            " [97] \"0.000000\" \"0.000000\" \"0.021417\" \"0.012656\" \"0.006170\" \"0.002468\"\n",
            "[103] \"0.000802\" \"0.000209\" \"0.000042\" \"0.000006\" \"0.000001\" \"0.000000\"\n",
            "[109] \"0.000000\" \"0.004010\" \"0.001604\" \"0.000521\" \"0.000136\" \"0.000028\"\n",
            "[115] \"0.000004\" \"0.000000\" \"0.000000\" \"0.000000\" \"0.000782\" \"0.000254\"\n",
            "[121] \"0.000066\" \"0.000013\" \"0.000002\" \"0.000000\" \"0.000000\" \"0.000000\"\n",
            "[127] \"0.000024\" \"0.000005\" \"0.000001\" \"0.000000\" \"0.000000\" \"0.000000\"\n",
            "[133] \"0.000001\" \"0.000000\" \"0.000000\" \"0.000000\" \"0.000000\" \"0.000000\"\n",
            "[139] \"0.000000\" \"0.000000\" \"0.000000\" \"0.000000\"\n"
          ]
        }
      ],
      "source": [
        "n_rows_p12 <- nrow(result_matrix_p12)\n",
        "n_cols_p12 <- ncol(result_matrix_p12)\n",
        "print(n_rows_p12)\n",
        "\n",
        "mask_p12 <- outer(1:n_rows_p12, 1:n_cols_p12, FUN = function(i, j) (((i-1) / 20) - ((j-1) / 13)) > observed_diff_p12)\n",
        "print(mask_p12)\n",
        "\n",
        "final_values_p12 = result_matrix_p12[mask_p12]\n",
        "print(final_values_p12)"
      ]
    },
    {
      "cell_type": "code",
      "execution_count": 83,
      "metadata": {
        "colab": {
          "base_uri": "https://localhost:8080/",
          "height": 34
        },
        "id": "wJa_Dpv8wrq7",
        "outputId": "46af621b-b743-45de-ab79-8525a6aae08a"
      },
      "outputs": [
        {
          "output_type": "display_data",
          "data": {
            "text/html": [
              "0.447811"
            ],
            "text/markdown": "0.447811",
            "text/latex": "0.447811",
            "text/plain": [
              "[1] 0.447811"
            ]
          },
          "metadata": {}
        }
      ],
      "source": [
        "sum(as.numeric(final_values_p12))"
      ]
    },
    {
      "cell_type": "markdown",
      "metadata": {
        "id": "XHIRXd6C3mc_"
      },
      "source": [
        "p.value = 0.45 - cannot reject the null hypothesis - no significant differences between groups 1 and 2"
      ]
    },
    {
      "cell_type": "markdown",
      "metadata": {
        "id": "jtxrHm6_4QcB"
      },
      "source": [
        "#H2 : Offline with Randomized Response vs Ofline directly (GROUP 3 VS GROUP 2)."
      ]
    },
    {
      "cell_type": "code",
      "execution_count": 84,
      "metadata": {
        "colab": {
          "base_uri": "https://localhost:8080/"
        },
        "id": "FwCfxPZ28Edw",
        "outputId": "d0fa1a9f-eabf-45f2-a5d7-d09d01553856"
      },
      "outputs": [
        {
          "output_type": "stream",
          "name": "stdout",
          "text": [
            "        2 \n",
            "0.3880597 \n",
            "          2 \n",
            "0.008241758 \n"
          ]
        }
      ],
      "source": [
        "p23 = (freq[2,2] + freq[2,3]) / (freq2[2] + freq2[3])\n",
        "print(p23)\n",
        "observed_diff_p23 = abs(freq[2,2]/freq2[2]-freq[2,3]/freq2[3])\n",
        "print(observed_diff_p23)"
      ]
    },
    {
      "cell_type": "code",
      "execution_count": 85,
      "metadata": {
        "colab": {
          "base_uri": "https://localhost:8080/"
        },
        "id": "q5t-VZtW8ifA",
        "outputId": "53c5e74f-5bc8-43b6-a8da-eff36405b47d"
      },
      "outputs": [
        {
          "output_type": "stream",
          "name": "stdout",
          "text": [
            "        2 \n",
            "0.4253731 \n"
          ]
        }
      ],
      "source": [
        "p3 = 1/6 +p23*4/6\n",
        "print(p3)"
      ]
    },
    {
      "cell_type": "code",
      "execution_count": 86,
      "metadata": {
        "colab": {
          "base_uri": "https://localhost:8080/"
        },
        "id": "DAWDv0m38EiL",
        "outputId": "e427ac9f-c647-406b-d2e5-8f9e1aed2eff"
      },
      "outputs": [
        {
          "output_type": "stream",
          "name": "stdout",
          "text": [
            " [1] 1.687399e-03 1.391075e-02 5.292871e-02 1.230700e-01 1.951110e-01\n",
            " [6] 2.227120e-01 1.883094e-01 1.194157e-01 5.679527e-02 2.000917e-02\n",
            "[11] 5.075498e-03 8.778023e-04 9.277585e-05 4.525651e-06\n"
          ]
        }
      ],
      "source": [
        "l2 <- 0:13\n",
        "\n",
        "lista_gr2_p23 <- numeric(length(l2))\n",
        "\n",
        "for (i in l2) {\n",
        "  lista_gr2_p23[i + 1] <- dbinom(i, size = 13, prob = p23)\n",
        "}\n",
        "\n",
        "print(lista_gr2_p23)"
      ]
    },
    {
      "cell_type": "code",
      "execution_count": 87,
      "metadata": {
        "colab": {
          "base_uri": "https://localhost:8080/"
        },
        "id": "1iVh-Eyz8El0",
        "outputId": "f6704f4c-b443-44fd-c01b-6bf3ff6df260"
      },
      "outputs": [
        {
          "output_type": "stream",
          "name": "stdout",
          "text": [
            " [1] 4.279598e-04 4.435220e-03 2.134089e-02 6.319122e-02 1.286393e-01\n",
            " [6] 1.904529e-01 2.114770e-01 1.789119e-01 1.158861e-01 5.719054e-02\n",
            "[11] 2.116793e-02 5.698096e-03 1.054518e-03 1.200949e-04 6.350103e-06\n"
          ]
        }
      ],
      "source": [
        "l3<- 0:14\n",
        "\n",
        "lista_gr3_p23 <- numeric(length(l3))\n",
        "\n",
        "for (i in l3) {\n",
        "  lista_gr3_p23[i + 1] <- dbinom(i, size = 14, prob = p3)\n",
        "}\n",
        "\n",
        "print(lista_gr3_p23)"
      ]
    },
    {
      "cell_type": "code",
      "execution_count": 92,
      "metadata": {
        "colab": {
          "base_uri": "https://localhost:8080/"
        },
        "id": "ktw-a_Co6qUS",
        "outputId": "b930a8cd-df2e-4891-9b5e-732faa60ea3e"
      },
      "outputs": [
        {
          "output_type": "stream",
          "name": "stdout",
          "text": [
            "  [1] 0.000001 0.000006 0.000023 0.000053 0.000083 0.000095 0.000081 0.000051\n",
            "  [9] 0.000024 0.000009 0.000002 0.000000 0.000000 0.000000 0.000007 0.000062\n",
            " [17] 0.000235 0.000546 0.000865 0.000988 0.000835 0.000530 0.000252 0.000089\n",
            " [25] 0.000023 0.000004 0.000000 0.000000 0.000036 0.000297 0.001130 0.002626\n",
            " [33] 0.004164 0.004753 0.004019 0.002548 0.001212 0.000427 0.000108 0.000019\n",
            " [41] 0.000002 0.000000 0.000107 0.000879 0.003345 0.007777 0.012329 0.014073\n",
            " [49] 0.011899 0.007546 0.003589 0.001264 0.000321 0.000055 0.000006 0.000000\n",
            " [57] 0.000217 0.001789 0.006809 0.015832 0.025099 0.028650 0.024224 0.015362\n",
            " [65] 0.007306 0.002574 0.000653 0.000113 0.000012 0.000001 0.000321 0.002649\n",
            " [73] 0.010080 0.023439 0.037159 0.042416 0.035864 0.022743 0.010817 0.003811\n",
            " [81] 0.000967 0.000167 0.000018 0.000001 0.000357 0.002942 0.011193 0.026026\n",
            " [89] 0.041261 0.047098 0.039823 0.025254 0.012011 0.004231 0.001073 0.000186\n",
            " [97] 0.000020 0.000001 0.000302 0.002489 0.009470 0.022019 0.034908 0.039846\n",
            "[105] 0.033691 0.021365 0.010161 0.003580 0.000908 0.000157 0.000017 0.000001\n",
            "[113] 0.000196 0.001612 0.006134 0.014262 0.022611 0.025809 0.021822 0.013839\n",
            "[121] 0.006582 0.002319 0.000588 0.000102 0.000011 0.000001 0.000097 0.000796\n",
            "[129] 0.003027 0.007038 0.011159 0.012737 0.010770 0.006829 0.003248 0.001144\n",
            "[137] 0.000290 0.000050 0.000005 0.000000 0.000036 0.000294 0.001120 0.002605\n",
            "[145] 0.004130 0.004714 0.003986 0.002528 0.001202 0.000424 0.000107 0.000019\n",
            "[153] 0.000002 0.000000 0.000010 0.000079 0.000302 0.000701 0.001112 0.001269\n",
            "[161] 0.001073 0.000680 0.000324 0.000114 0.000029 0.000005 0.000001 0.000000\n",
            "[169] 0.000002 0.000015 0.000056 0.000130 0.000206 0.000235 0.000199 0.000126\n",
            "[177] 0.000060 0.000021 0.000005 0.000001 0.000000 0.000000 0.000000 0.000002\n",
            "[185] 0.000006 0.000015 0.000023 0.000027 0.000023 0.000014 0.000007 0.000002\n",
            "[193] 0.000001 0.000000 0.000000 0.000000 0.000000 0.000000 0.000000 0.000001\n",
            "[201] 0.000001 0.000001 0.000001 0.000001 0.000000 0.000000 0.000000 0.000000\n",
            "[209] 0.000000 0.000000\n"
          ]
        }
      ],
      "source": [
        "result_matrix_p23 <- outer(lista_gr2_p23, lista_gr3_p23, FUN = \"*\")\n",
        "result_matrix_p23 <- round(result_matrix_p23, digits = 6)\n",
        "result_matrix_p23 <- format(result_matrix_p23, scientific = FALSE)\n",
        "result_matrix_p23 <- as.numeric(result_matrix_p23)\n",
        "print(result_matrix_p23)"
      ]
    },
    {
      "cell_type": "code",
      "execution_count": 93,
      "metadata": {
        "id": "tdOlbX0kh-Bm",
        "colab": {
          "base_uri": "https://localhost:8080/"
        },
        "outputId": "582d1f00-d0fe-43f2-fcda-464c6b82f9b8"
      },
      "outputs": [
        {
          "output_type": "stream",
          "name": "stdout",
          "text": [
            "  [1] \"0.000001\" \"0.000006\" \"0.000023\" \"0.000053\" \"0.000083\" \"0.000095\"\n",
            "  [7] \"0.000081\" \"0.000051\" \"0.000024\" \"0.000009\" \"0.000002\" \"0.000000\"\n",
            " [13] \"0.000000\" \"0.000000\" \"0.000007\" \"0.000062\" \"0.000235\" \"0.000546\"\n",
            " [19] \"0.000865\" \"0.000988\" \"0.000835\" \"0.000530\" \"0.000252\" \"0.000089\"\n",
            " [25] \"0.000023\" \"0.000004\" \"0.000000\" \"0.000000\" \"0.000036\" \"0.000297\"\n",
            " [31] \"0.001130\" \"0.002626\" \"0.004164\" \"0.004753\" \"0.004019\" \"0.002548\"\n",
            " [37] \"0.001212\" \"0.000427\" \"0.000108\" \"0.000019\" \"0.000002\" \"0.000000\"\n",
            " [43] \"0.000107\" \"0.000879\" \"0.003345\" \"0.007777\" \"0.012329\" \"0.014073\"\n",
            " [49] \"0.011899\" \"0.007546\" \"0.003589\" \"0.001264\" \"0.000321\" \"0.000055\"\n",
            " [55] \"0.000006\" \"0.000000\" \"0.000217\" \"0.001789\" \"0.006809\" \"0.015832\"\n",
            " [61] \"0.025099\" \"0.028650\" \"0.024224\" \"0.015362\" \"0.007306\" \"0.002574\"\n",
            " [67] \"0.000653\" \"0.000113\" \"0.000012\" \"0.000001\" \"0.000321\" \"0.002649\"\n",
            " [73] \"0.010080\" \"0.023439\" \"0.037159\" \"0.042416\" \"0.035864\" \"0.022743\"\n",
            " [79] \"0.010817\" \"0.003811\" \"0.000967\" \"0.000167\" \"0.000018\" \"0.000001\"\n",
            " [85] \"0.000357\" \"0.002942\" \"0.011193\" \"0.026026\" \"0.041261\" \"0.047098\"\n",
            " [91] \"0.039823\" \"0.025254\" \"0.012011\" \"0.004231\" \"0.001073\" \"0.000186\"\n",
            " [97] \"0.000020\" \"0.000001\" \"0.000302\" \"0.002489\" \"0.009470\" \"0.022019\"\n",
            "[103] \"0.034908\" \"0.039846\" \"0.033691\" \"0.021365\" \"0.010161\" \"0.003580\"\n",
            "[109] \"0.000908\" \"0.000157\" \"0.000017\" \"0.000001\" \"0.000196\" \"0.001612\"\n",
            "[115] \"0.006134\" \"0.014262\" \"0.022611\" \"0.025809\" \"0.021822\" \"0.013839\"\n",
            "[121] \"0.006582\" \"0.002319\" \"0.000588\" \"0.000102\" \"0.000011\" \"0.000001\"\n",
            "[127] \"0.000097\" \"0.000796\" \"0.003027\" \"0.007038\" \"0.011159\" \"0.012737\"\n",
            "[133] \"0.010770\" \"0.006829\" \"0.003248\" \"0.001144\" \"0.000290\" \"0.000050\"\n",
            "[139] \"0.000005\" \"0.000000\" \"0.000036\" \"0.000294\" \"0.001120\" \"0.002605\"\n",
            "[145] \"0.004130\" \"0.004714\" \"0.003986\" \"0.002528\" \"0.001202\" \"0.000424\"\n",
            "[151] \"0.000107\" \"0.000019\" \"0.000002\" \"0.000000\" \"0.000010\" \"0.000079\"\n",
            "[157] \"0.000302\" \"0.000701\" \"0.001112\" \"0.001269\" \"0.001073\" \"0.000680\"\n",
            "[163] \"0.000324\" \"0.000114\" \"0.000029\" \"0.000005\" \"0.000001\" \"0.000000\"\n",
            "[169] \"0.000002\" \"0.000015\" \"0.000056\" \"0.000130\" \"0.000206\" \"0.000235\"\n",
            "[175] \"0.000199\" \"0.000126\" \"0.000060\" \"0.000021\" \"0.000005\" \"0.000001\"\n",
            "[181] \"0.000000\" \"0.000000\" \"0.000000\" \"0.000002\" \"0.000006\" \"0.000015\"\n",
            "[187] \"0.000023\" \"0.000027\" \"0.000023\" \"0.000014\" \"0.000007\" \"0.000002\"\n",
            "[193] \"0.000001\" \"0.000000\" \"0.000000\" \"0.000000\" \"0.000000\" \"0.000000\"\n",
            "[199] \"0.000000\" \"0.000001\" \"0.000001\" \"0.000001\" \"0.000001\" \"0.000001\"\n",
            "[205] \"0.000000\" \"0.000000\" \"0.000000\" \"0.000000\" \"0.000000\" \"0.000000\"\n"
          ]
        }
      ],
      "source": [
        "result_matrix_p23 <- round(result_matrix_p23, digits = 6)\n",
        "result_matrix_p23 <- format(result_matrix_p23, scientific = FALSE)\n",
        "print(result_matrix_p23)\n",
        "write.matrix(result_matrix_p23, file=\"M_p23.csv\")"
      ]
    },
    {
      "cell_type": "code",
      "execution_count": 94,
      "metadata": {
        "colab": {
          "base_uri": "https://localhost:8080/"
        },
        "id": "QBVIbv7-B0Z-",
        "outputId": "041c4a61-fd23-4e88-a3aa-ee241603214c"
      },
      "outputs": [
        {
          "output_type": "stream",
          "name": "stdout",
          "text": [
            "[1] 2.333333\n",
            " [1] 0.00000000 0.00000000 0.00000000 0.07142857 0.17857143 0.28571429\n",
            " [7] 0.39285714 0.50000000 0.60714286 0.71428571 0.82142857 0.92857143\n",
            "[13] 1.00000000 1.00000000 1.00000000\n"
          ]
        }
      ],
      "source": [
        "l3total <- c(0, 1, 2, 3, 4, 5, 6, 7, 8, 9, 10, 11, 12, 13, 14)\n",
        "\n",
        "x <- subtract_1_6_group3\n",
        "print(x)\n",
        "\n",
        "process_value <- function(value, x) {\n",
        "  if (value < x) {\n",
        "    return(0)\n",
        "  } else {\n",
        "    return(value - x)\n",
        "  }\n",
        "}\n",
        "\n",
        "pest3_list <- vector(\"numeric\", length = 0)\n",
        "\n",
        "for (i in l3total) {\n",
        "  j <- 14 - i\n",
        "  i <- process_value(i, x)\n",
        "  j <- process_value(j, x)\n",
        "  p <- ifelse(i + j == 0, 0, i / (i + j))\n",
        "  pest3_list <- c(pest3_list, p)\n",
        "}\n",
        "\n",
        "print(pest3_list)"
      ]
    },
    {
      "cell_type": "code",
      "execution_count": 95,
      "metadata": {
        "colab": {
          "base_uri": "https://localhost:8080/"
        },
        "id": "IPY0CvcZVv7Z",
        "outputId": "05c821c3-c798-40ab-f046-7197cc9d9968"
      },
      "outputs": [
        {
          "output_type": "stream",
          "name": "stdout",
          "text": [
            " [1] 0.00000000 0.07692308 0.15384615 0.23076923 0.30769231 0.38461538\n",
            " [7] 0.46153846 0.53846154 0.61538462 0.69230769 0.76923077 0.84615385\n",
            "[13] 0.92307692 1.00000000\n",
            "[1] 0.07692308\n"
          ]
        }
      ],
      "source": [
        "num_vector <- 0:13\n",
        "\n",
        "pest2_list <- num_vector / 13\n",
        "\n",
        "print(pest2_list)\n",
        "print(pest2_list[2])"
      ]
    },
    {
      "cell_type": "code",
      "execution_count": 96,
      "metadata": {
        "colab": {
          "base_uri": "https://localhost:8080/"
        },
        "id": "xOjo2oIoWNwy",
        "outputId": "0caad385-0de2-4b77-f225-6f982cd9f5ca"
      },
      "outputs": [
        {
          "output_type": "stream",
          "name": "stdout",
          "text": [
            "[1] \"Difference matrix (p3 - p2):\"\n",
            "             [,1]        [,2]        [,3]         [,4]        [,5]        [,6]\n",
            " [1,]  0.00000000  0.00000000  0.00000000  0.071428571  0.17857143  0.28571429\n",
            " [2,] -0.07692308 -0.07692308 -0.07692308 -0.005494505  0.10164835  0.20879121\n",
            " [3,] -0.15384615 -0.15384615 -0.15384615 -0.082417582  0.02472527  0.13186813\n",
            " [4,] -0.23076923 -0.23076923 -0.23076923 -0.159340659 -0.05219780  0.05494505\n",
            " [5,] -0.30769231 -0.30769231 -0.30769231 -0.236263736 -0.12912088 -0.02197802\n",
            " [6,] -0.38461538 -0.38461538 -0.38461538 -0.313186813 -0.20604396 -0.09890110\n",
            " [7,] -0.46153846 -0.46153846 -0.46153846 -0.390109890 -0.28296703 -0.17582418\n",
            " [8,] -0.53846154 -0.53846154 -0.53846154 -0.467032967 -0.35989011 -0.25274725\n",
            " [9,] -0.61538462 -0.61538462 -0.61538462 -0.543956044 -0.43681319 -0.32967033\n",
            "[10,] -0.69230769 -0.69230769 -0.69230769 -0.620879121 -0.51373626 -0.40659341\n",
            "[11,] -0.76923077 -0.76923077 -0.76923077 -0.697802198 -0.59065934 -0.48351648\n",
            "[12,] -0.84615385 -0.84615385 -0.84615385 -0.774725275 -0.66758242 -0.56043956\n",
            "[13,] -0.92307692 -0.92307692 -0.92307692 -0.851648352 -0.74450549 -0.63736264\n",
            "[14,] -1.00000000 -1.00000000 -1.00000000 -0.928571429 -0.82142857 -0.71428571\n",
            "              [,7]        [,8]         [,9]       [,10]       [,11]\n",
            " [1,]  0.392857143  0.50000000  0.607142857  0.71428571  0.82142857\n",
            " [2,]  0.315934066  0.42307692  0.530219780  0.63736264  0.74450549\n",
            " [3,]  0.239010989  0.34615385  0.453296703  0.56043956  0.66758242\n",
            " [4,]  0.162087912  0.26923077  0.376373626  0.48351648  0.59065934\n",
            " [5,]  0.085164835  0.19230769  0.299450549  0.40659341  0.51373626\n",
            " [6,]  0.008241758  0.11538462  0.222527473  0.32967033  0.43681319\n",
            " [7,] -0.068681319  0.03846154  0.145604396  0.25274725  0.35989011\n",
            " [8,] -0.145604396 -0.03846154  0.068681319  0.17582418  0.28296703\n",
            " [9,] -0.222527473 -0.11538462 -0.008241758  0.09890110  0.20604396\n",
            "[10,] -0.299450549 -0.19230769 -0.085164835  0.02197802  0.12912088\n",
            "[11,] -0.376373626 -0.26923077 -0.162087912 -0.05494505  0.05219780\n",
            "[12,] -0.453296703 -0.34615385 -0.239010989 -0.13186813 -0.02472527\n",
            "[13,] -0.530219780 -0.42307692 -0.315934066 -0.20879121 -0.10164835\n",
            "[14,] -0.607142857 -0.50000000 -0.392857143 -0.28571429 -0.17857143\n",
            "             [,12]      [,13]      [,14]      [,15]\n",
            " [1,]  0.928571429 1.00000000 1.00000000 1.00000000\n",
            " [2,]  0.851648352 0.92307692 0.92307692 0.92307692\n",
            " [3,]  0.774725275 0.84615385 0.84615385 0.84615385\n",
            " [4,]  0.697802198 0.76923077 0.76923077 0.76923077\n",
            " [5,]  0.620879121 0.69230769 0.69230769 0.69230769\n",
            " [6,]  0.543956044 0.61538462 0.61538462 0.61538462\n",
            " [7,]  0.467032967 0.53846154 0.53846154 0.53846154\n",
            " [8,]  0.390109890 0.46153846 0.46153846 0.46153846\n",
            " [9,]  0.313186813 0.38461538 0.38461538 0.38461538\n",
            "[10,]  0.236263736 0.30769231 0.30769231 0.30769231\n",
            "[11,]  0.159340659 0.23076923 0.23076923 0.23076923\n",
            "[12,]  0.082417582 0.15384615 0.15384615 0.15384615\n",
            "[13,]  0.005494505 0.07692308 0.07692308 0.07692308\n",
            "[14,] -0.071428571 0.00000000 0.00000000 0.00000000\n"
          ]
        }
      ],
      "source": [
        "difference_matrix <- outer(pest2_list, pest3_list, FUN = function(p2, p3) p3 - p2)\n",
        "\n",
        "print(\"Difference matrix (p3 - p2):\")\n",
        "print(difference_matrix)"
      ]
    },
    {
      "cell_type": "markdown",
      "source": [
        "Create the mask matrix based on the condition p3 - p2 > x"
      ],
      "metadata": {
        "id": "p0TerJvWwn1h"
      }
    },
    {
      "cell_type": "code",
      "execution_count": 97,
      "metadata": {
        "colab": {
          "base_uri": "https://localhost:8080/"
        },
        "id": "DXVqfL5QYitO",
        "outputId": "71189331-d91d-4e04-ce9e-4bed477618fd"
      },
      "outputs": [
        {
          "output_type": "stream",
          "name": "stdout",
          "text": [
            "[1] \"Mask matrix (p3 - p2 > observed_diff_p23):\"\n",
            "       [,1]  [,2]  [,3]  [,4]  [,5]  [,6]  [,7]  [,8]  [,9] [,10] [,11] [,12]\n",
            " [1,] FALSE FALSE FALSE  TRUE  TRUE  TRUE  TRUE  TRUE  TRUE  TRUE  TRUE  TRUE\n",
            " [2,] FALSE FALSE FALSE FALSE  TRUE  TRUE  TRUE  TRUE  TRUE  TRUE  TRUE  TRUE\n",
            " [3,] FALSE FALSE FALSE FALSE  TRUE  TRUE  TRUE  TRUE  TRUE  TRUE  TRUE  TRUE\n",
            " [4,] FALSE FALSE FALSE FALSE FALSE  TRUE  TRUE  TRUE  TRUE  TRUE  TRUE  TRUE\n",
            " [5,] FALSE FALSE FALSE FALSE FALSE FALSE  TRUE  TRUE  TRUE  TRUE  TRUE  TRUE\n",
            " [6,] FALSE FALSE FALSE FALSE FALSE FALSE FALSE  TRUE  TRUE  TRUE  TRUE  TRUE\n",
            " [7,] FALSE FALSE FALSE FALSE FALSE FALSE FALSE  TRUE  TRUE  TRUE  TRUE  TRUE\n",
            " [8,] FALSE FALSE FALSE FALSE FALSE FALSE FALSE FALSE  TRUE  TRUE  TRUE  TRUE\n",
            " [9,] FALSE FALSE FALSE FALSE FALSE FALSE FALSE FALSE FALSE  TRUE  TRUE  TRUE\n",
            "[10,] FALSE FALSE FALSE FALSE FALSE FALSE FALSE FALSE FALSE  TRUE  TRUE  TRUE\n",
            "[11,] FALSE FALSE FALSE FALSE FALSE FALSE FALSE FALSE FALSE FALSE  TRUE  TRUE\n",
            "[12,] FALSE FALSE FALSE FALSE FALSE FALSE FALSE FALSE FALSE FALSE FALSE  TRUE\n",
            "[13,] FALSE FALSE FALSE FALSE FALSE FALSE FALSE FALSE FALSE FALSE FALSE FALSE\n",
            "[14,] FALSE FALSE FALSE FALSE FALSE FALSE FALSE FALSE FALSE FALSE FALSE FALSE\n",
            "      [,13] [,14] [,15]\n",
            " [1,]  TRUE  TRUE  TRUE\n",
            " [2,]  TRUE  TRUE  TRUE\n",
            " [3,]  TRUE  TRUE  TRUE\n",
            " [4,]  TRUE  TRUE  TRUE\n",
            " [5,]  TRUE  TRUE  TRUE\n",
            " [6,]  TRUE  TRUE  TRUE\n",
            " [7,]  TRUE  TRUE  TRUE\n",
            " [8,]  TRUE  TRUE  TRUE\n",
            " [9,]  TRUE  TRUE  TRUE\n",
            "[10,]  TRUE  TRUE  TRUE\n",
            "[11,]  TRUE  TRUE  TRUE\n",
            "[12,]  TRUE  TRUE  TRUE\n",
            "[13,]  TRUE  TRUE  TRUE\n",
            "[14,] FALSE FALSE FALSE\n"
          ]
        }
      ],
      "source": [
        "mask <- difference_matrix > observed_diff_p23\n",
        "\n",
        "print(\"Mask matrix (p3 - p2 > observed_diff_p23):\")\n",
        "print(mask)"
      ]
    },
    {
      "cell_type": "markdown",
      "source": [
        "Apply the mask to the result matrix and sum the filtered values\n"
      ],
      "metadata": {
        "id": "UBMWQbQK2VCf"
      }
    },
    {
      "cell_type": "code",
      "execution_count": 99,
      "metadata": {
        "colab": {
          "base_uri": "https://localhost:8080/",
          "height": 277
        },
        "id": "1LLxwSNqZdQ2",
        "outputId": "e8d92cb3-940f-4dfe-be06-3af9a17f988f"
      },
      "outputs": [
        {
          "output_type": "stream",
          "name": "stdout",
          "text": [
            "[1] \"Filtered values_23:\"\n",
            "  [1] 0.000107 0.000217 0.001789 0.006809 0.000321 0.002649 0.010080 0.023439\n",
            "  [9] 0.000357 0.002942 0.011193 0.026026 0.041261 0.000302 0.002489 0.009470\n",
            " [17] 0.022019 0.034908 0.039846 0.033691 0.000196 0.001612 0.006134 0.014262\n",
            " [25] 0.022611 0.025809 0.021822 0.013839 0.000097 0.000796 0.003027 0.007038\n",
            " [33] 0.011159 0.012737 0.010770 0.006829 0.003248 0.001144 0.000036 0.000294\n",
            " [41] 0.001120 0.002605 0.004130 0.004714 0.003986 0.002528 0.001202 0.000424\n",
            " [49] 0.000107 0.000010 0.000079 0.000302 0.000701 0.001112 0.001269 0.001073\n",
            " [57] 0.000680 0.000324 0.000114 0.000029 0.000005 0.000002 0.000015 0.000056\n",
            " [65] 0.000130 0.000206 0.000235 0.000199 0.000126 0.000060 0.000021 0.000005\n",
            " [73] 0.000001 0.000000 0.000000 0.000002 0.000006 0.000015 0.000023 0.000027\n",
            " [81] 0.000023 0.000014 0.000007 0.000002 0.000001 0.000000 0.000000 0.000000\n",
            " [89] 0.000000 0.000000 0.000001 0.000001 0.000001 0.000001 0.000001 0.000000\n",
            " [97] 0.000000 0.000000 0.000000 0.000000\n"
          ]
        },
        {
          "output_type": "display_data",
          "data": {
            "text/html": [
              "0.46107"
            ],
            "text/markdown": "0.46107",
            "text/latex": "0.46107",
            "text/plain": [
              "[1] 0.46107"
            ]
          },
          "metadata": {}
        }
      ],
      "source": [
        "filtered_values_23 <- as.numeric(result_matrix_p23[mask])\n",
        "\n",
        "print(\"Filtered values_23:\")\n",
        "print(filtered_values_23)\n",
        "\n",
        "sum(filtered_values_23)"
      ]
    },
    {
      "cell_type": "markdown",
      "metadata": {
        "id": "R_ZtNae29Hom"
      },
      "source": [
        "p.value = 0.46 -  cannot reject the null hypothesis - no significant differences between groups 2 and 3."
      ]
    },
    {
      "cell_type": "markdown",
      "metadata": {
        "id": "mcCHBCa-W8EF"
      },
      "source": [
        "#H3: online bezp vs online RR (GRUPA 1 VS GRUPA 4)."
      ]
    },
    {
      "cell_type": "markdown",
      "metadata": {
        "id": "aUHkSnxXr27U"
      },
      "source": [
        "joined p for goup 1 and 4"
      ]
    },
    {
      "cell_type": "code",
      "execution_count": 100,
      "metadata": {
        "colab": {
          "base_uri": "https://localhost:8080/"
        },
        "id": "x41dVv2WWbnl",
        "outputId": "1bc06fe8-51cc-4931-ea90-0a46b3d68d6d"
      },
      "outputs": [
        {
          "output_type": "stream",
          "name": "stdout",
          "text": [
            "        1 \n",
            "0.5141509 \n"
          ]
        }
      ],
      "source": [
        "p14 = (freq[2,1] + freq[2,4]) / (freq2[1] + freq2[4])\n",
        "print(p14)"
      ]
    },
    {
      "cell_type": "markdown",
      "metadata": {
        "id": "KiBP_rrUsDup"
      },
      "source": [
        "observed difference in answers between group 1 and 4"
      ]
    },
    {
      "cell_type": "code",
      "execution_count": 101,
      "metadata": {
        "colab": {
          "base_uri": "https://localhost:8080/"
        },
        "id": "k-86vPwVqoAn",
        "outputId": "d1d2ab60-0a7e-4dff-80ba-7e09100307fe"
      },
      "outputs": [
        {
          "output_type": "stream",
          "name": "stdout",
          "text": [
            "        1 \n",
            "0.2630435 \n"
          ]
        }
      ],
      "source": [
        "observed_diff_p14 = abs(freq[2,1]/freq2[1]-freq[2,4]/freq2[4])\n",
        "print(observed_diff_p14)"
      ]
    },
    {
      "cell_type": "code",
      "execution_count": 102,
      "metadata": {
        "colab": {
          "base_uri": "https://localhost:8080/"
        },
        "id": "i6h2TSrmaznX",
        "outputId": "22b21c56-859e-4aef-afd5-ae142553b197"
      },
      "outputs": [
        {
          "output_type": "stream",
          "name": "stdout",
          "text": [
            "       1 \n",
            "0.509434 \n"
          ]
        }
      ],
      "source": [
        "p4 = 1/6 +p14*4/6\n",
        "print(p4)"
      ]
    },
    {
      "cell_type": "code",
      "execution_count": 103,
      "metadata": {
        "colab": {
          "base_uri": "https://localhost:8080/"
        },
        "id": "b2qFyeqrgh9G",
        "outputId": "61316df5-c0ac-4981-84da-d51ad0d4e0ab"
      },
      "outputs": [
        {
          "output_type": "stream",
          "name": "stdout",
          "text": [
            " [1] 5.370655e-07 1.136702e-05 1.142772e-04 7.256045e-04 3.263459e-03\n",
            " [6] 1.105140e-02 2.923793e-02 6.188223e-02 1.064164e-01 1.501539e-01\n",
            "[11] 1.747908e-01 1.681571e-01 1.334645e-01 8.691637e-02 4.598973e-02\n",
            "[16] 1.946750e-02 6.437977e-03 1.603060e-03 2.827404e-04 3.149586e-05\n",
            "[21] 1.666528e-06\n"
          ]
        }
      ],
      "source": [
        "l1 <- 0:20\n",
        "\n",
        "lista_gr1_p14 <- numeric(length(l1))\n",
        "\n",
        "for (i in l1) {\n",
        "  lista_gr1_p14[i + 1] <- dbinom(i, size = 20, prob = p14)\n",
        "}\n",
        "\n",
        "print(lista_gr1_p14)"
      ]
    },
    {
      "cell_type": "code",
      "execution_count": 104,
      "metadata": {
        "colab": {
          "base_uri": "https://localhost:8080/"
        },
        "id": "-isotSQghS38",
        "outputId": "de482404-4d1f-4f14-f8cc-867a8dbdec1a"
      },
      "outputs": [
        {
          "output_type": "stream",
          "name": "stdout",
          "text": [
            " [1] 7.692048e-08 1.837216e-06 2.098666e-05 1.525569e-04 7.921223e-04\n",
            " [6] 3.125836e-03 9.738183e-03 2.455948e-02 5.100816e-02 8.828335e-02\n",
            "[11] 1.283504e-01 1.575210e-01 1.635794e-01 1.437370e-01 1.066181e-01\n",
            "[16] 6.643127e-02 3.449316e-02 1.474934e-02 5.105540e-03 1.395239e-03\n",
            "[21] 2.897803e-04 4.298939e-05 4.058439e-06 1.832405e-07\n"
          ]
        }
      ],
      "source": [
        "l4 <- 0:23\n",
        "\n",
        "lista_gr4_p14 <- numeric(length(l4))\n",
        "\n",
        "for (i in l4) {\n",
        "  lista_gr4_p14[i + 1] <- dbinom(i, size = 23, prob = p4)\n",
        "}\n",
        "\n",
        "print(lista_gr4_p14)"
      ]
    },
    {
      "cell_type": "code",
      "execution_count": 105,
      "metadata": {
        "colab": {
          "base_uri": "https://localhost:8080/"
        },
        "id": "eyK_53UMd3t8",
        "outputId": "ef01a17c-853a-43a4-c344-740025a34570"
      },
      "outputs": [
        {
          "output_type": "stream",
          "name": "stdout",
          "text": [
            "              [,1]         [,2]         [,3]         [,4]         [,5]\n",
            " [1,] 4.131134e-14 9.867055e-13 1.127121e-11 8.193304e-11 4.254216e-10\n",
            " [2,] 8.743565e-13 2.088367e-11 2.385558e-10 1.734117e-09 9.004068e-09\n",
            " [3,] 8.790254e-12 2.099518e-10 2.398296e-09 1.743377e-08 9.052148e-08\n",
            " [4,] 5.581385e-11 1.333092e-09 1.522802e-08 1.106960e-07 5.747675e-07\n",
            " [5,] 2.510268e-10 5.995679e-09 6.848911e-08 4.978631e-07 2.585059e-06\n",
            " [6,] 8.500792e-10 2.030382e-08 2.319320e-07 1.685968e-06 8.754062e-06\n",
            " [7,] 2.248996e-09 5.371640e-08 6.136066e-07 4.460448e-06 2.316002e-05\n",
            " [8,] 4.760011e-09 1.136910e-07 1.298701e-06 9.440560e-06 4.901829e-05\n",
            " [9,] 8.185601e-09 1.955099e-07 2.233325e-06 1.623456e-05 8.429481e-05\n",
            "[10,] 1.154991e-08 2.758652e-07 3.151229e-06 2.290701e-05 1.189402e-04\n",
            "[11,] 1.344499e-08 3.211285e-07 3.668275e-06 2.666554e-05 1.384557e-04\n",
            "[12,] 1.293472e-08 3.089409e-07 3.529056e-06 2.565352e-05 1.332010e-04\n",
            "[13,] 1.026615e-08 2.452031e-07 2.800974e-06 2.036092e-05 1.057202e-04\n",
            "[14,] 6.685649e-09 1.596842e-07 1.824084e-06 1.325969e-05 6.884840e-05\n",
            "[15,] 3.537552e-09 8.449308e-08 9.651709e-07 7.016050e-06 3.642949e-05\n",
            "[16,] 1.497449e-09 3.576600e-08 4.085578e-07 2.969901e-06 1.542064e-05\n",
            "[17,] 4.952123e-10 1.182796e-08 1.351116e-07 9.821577e-07 5.099665e-06\n",
            "[18,] 1.233081e-10 2.945168e-09 3.364288e-08 2.445578e-07 1.269820e-06\n",
            "[19,] 2.174852e-11 5.194551e-10 5.933776e-09 4.313399e-08 2.239649e-07\n",
            "[20,] 2.422677e-12 5.786470e-11 6.609929e-10 4.804910e-09 2.494857e-08\n",
            "[21,] 1.281902e-13 3.061773e-12 3.497487e-11 2.542404e-10 1.320094e-09\n",
            "              [,6]         [,7]         [,8]         [,9]        [,10]\n",
            " [1,] 1.678779e-09 5.230042e-09 1.319005e-08 2.739472e-08 4.741394e-08\n",
            " [2,] 3.553144e-08 1.106941e-07 2.791681e-07 5.798106e-07 1.003518e-06\n",
            " [3,] 3.572117e-07 1.112852e-06 2.806588e-06 5.829067e-06 1.008877e-05\n",
            " [4,] 2.268121e-06 7.066069e-06 1.782047e-05 3.701175e-05 6.405879e-05\n",
            " [5,] 1.020104e-05 3.178016e-05 8.014886e-05 1.664630e-04 2.881091e-04\n",
            " [6,] 3.454488e-05 1.076206e-04 2.714167e-04 5.637117e-04 9.756548e-04\n",
            " [7,] 9.139300e-05 2.847243e-04 7.180685e-04 1.491373e-03 2.581223e-03\n",
            " [8,] 1.934337e-04 6.026205e-04 1.519796e-03 3.156498e-03 5.463170e-03\n",
            " [9,] 3.326403e-04 1.036302e-03 2.613532e-03 5.428105e-03 9.394797e-03\n",
            "[10,] 4.693565e-04 1.462226e-03 3.687702e-03 7.659073e-03 1.325609e-02\n",
            "[11,] 5.463674e-04 1.702145e-03 4.292772e-03 8.915756e-03 1.543112e-02\n",
            "[12,] 5.256315e-04 1.637544e-03 4.129851e-03 8.577382e-03 1.484547e-02\n",
            "[13,] 4.171881e-04 1.299701e-03 3.277818e-03 6.807777e-03 1.178269e-02\n",
            "[14,] 2.716864e-04 8.464075e-04 2.134621e-03 4.433444e-03 7.673268e-03\n",
            "[15,] 1.437564e-04 4.478564e-04 1.129484e-03 2.345851e-03 4.060127e-03\n",
            "[16,] 6.085221e-05 1.895780e-04 4.781117e-04 9.930012e-04 1.718656e-03\n",
            "[17,] 2.012406e-05 6.269420e-05 1.581134e-04 3.283893e-04 5.683662e-04\n",
            "[18,] 5.010903e-06 1.561089e-05 3.937032e-05 8.176913e-05 1.415235e-04\n",
            "[19,] 8.838001e-07 2.753377e-06 6.943957e-06 1.442206e-05 2.496126e-05\n",
            "[20,] 9.845090e-08 3.067124e-07 7.735220e-07 1.606546e-06 2.780560e-06\n",
            "[21,] 5.209295e-09 1.622896e-08 4.092908e-08 8.500655e-08 1.471267e-07\n",
            "             [,11]        [,12]        [,13]        [,14]        [,15]\n",
            " [1,] 6.893258e-08 8.459907e-08 8.785288e-08 7.719617e-08 5.726090e-08\n",
            " [2,] 1.458961e-06 1.790543e-06 1.859411e-06 1.633861e-06 1.211930e-06\n",
            " [3,] 1.466752e-05 1.800105e-05 1.869339e-05 1.642585e-05 1.218401e-05\n",
            " [4,] 9.313163e-05 1.142979e-04 1.186940e-04 1.042962e-04 7.736256e-05\n",
            " [5,] 4.188663e-04 5.140632e-04 5.338348e-04 4.690797e-04 3.479437e-04\n",
            " [6,] 1.418452e-03 1.740827e-03 1.807782e-03 1.588495e-03 1.178279e-03\n",
            " [7,] 3.752701e-03 4.605587e-03 4.782725e-03 4.202572e-03 3.117293e-03\n",
            " [8,] 7.942609e-03 9.747748e-03 1.012266e-02 8.894764e-03 6.597765e-03\n",
            " [9,] 1.365859e-02 1.676281e-02 1.740754e-02 1.529597e-02 1.134591e-02\n",
            "[10,] 1.927231e-02 2.365238e-02 2.456209e-02 2.158267e-02 1.600912e-02\n",
            "[11,] 2.243447e-02 2.753321e-02 2.859218e-02 2.512390e-02 1.863586e-02\n",
            "[12,] 2.158303e-02 2.648826e-02 2.750704e-02 2.417039e-02 1.792859e-02\n",
            "[13,] 1.713022e-02 2.102345e-02 2.183205e-02 1.918378e-02 1.422973e-02\n",
            "[14,] 1.115575e-02 1.369115e-02 1.421773e-02 1.249310e-02 9.266857e-03\n",
            "[15,] 5.902801e-03 7.244346e-03 7.522975e-03 6.610425e-03 4.903337e-03\n",
            "[16,] 2.498661e-03 3.066539e-03 3.184483e-03 2.798199e-03 2.075587e-03\n",
            "[17,] 8.263170e-04 1.014116e-03 1.053121e-03 9.253753e-04 6.864048e-04\n",
            "[18,] 2.057534e-04 2.525155e-04 2.622277e-04 2.304190e-04 1.709152e-04\n",
            "[19,] 3.628984e-05 4.453753e-05 4.625051e-05 4.064024e-05 3.014523e-05\n",
            "[20,] 4.042506e-06 4.961258e-06 5.152075e-06 4.527119e-06 3.358028e-06\n",
            "[21,] 2.138996e-07 2.625132e-07 2.726098e-07 2.395418e-07 1.776821e-07\n",
            "             [,16]        [,17]        [,18]        [,19]        [,20]\n",
            " [1,] 3.567794e-08 1.852509e-08 7.921360e-09 2.742009e-09 7.493345e-10\n",
            " [2,] 7.551254e-07 3.920843e-07 1.676560e-07 5.803476e-08 1.585970e-08\n",
            " [3,] 7.591576e-06 3.941780e-06 1.685512e-06 5.834466e-07 1.594439e-07\n",
            " [4,] 4.820282e-05 2.502839e-05 1.070218e-05 3.704602e-06 1.012391e-06\n",
            " [5,] 2.167957e-04 1.125670e-04 4.813385e-05 1.666172e-05 4.553304e-06\n",
            " [6,] 7.341587e-04 3.811978e-04 1.630009e-04 5.642337e-05 1.541934e-05\n",
            " [7,] 1.942313e-03 1.008509e-03 4.312401e-04 1.492754e-04 4.079389e-05\n",
            " [8,] 4.110915e-03 2.134514e-03 9.127218e-04 3.159422e-04 8.634047e-05\n",
            " [9,] 7.069377e-03 3.670638e-03 1.569571e-03 5.433132e-04 1.484763e-04\n",
            "[10,] 9.974914e-03 5.179282e-03 2.214670e-03 7.666167e-04 2.095005e-04\n",
            "[11,] 1.161157e-02 6.029087e-03 2.578048e-03 8.924013e-04 2.438749e-04\n",
            "[12,] 1.117089e-02 5.800269e-03 2.480205e-03 8.585326e-04 2.346192e-04\n",
            "[13,] 8.866214e-03 4.603611e-03 1.968513e-03 6.814082e-04 1.862148e-04\n",
            "[14,] 5.773965e-03 2.998020e-03 1.281959e-03 4.437550e-04 1.212691e-04\n",
            "[15,] 3.055156e-03 1.586331e-03 6.783180e-04 2.348024e-04 6.416665e-05\n",
            "[16,] 1.293251e-03 6.714955e-04 2.871327e-04 9.939208e-05 2.716180e-05\n",
            "[17,] 4.276830e-04 2.220662e-04 9.495589e-05 3.286935e-05 8.982514e-06\n",
            "[18,] 1.064933e-04 5.529460e-05 2.364407e-05 8.184486e-06 2.236651e-06\n",
            "[19,] 1.878280e-05 9.752608e-06 4.170233e-06 1.443542e-06 3.944902e-07\n",
            "[20,] 2.092310e-06 1.086392e-06 4.645430e-07 1.608034e-07 4.394424e-08\n",
            "[21,] 1.107096e-07 5.748383e-08 2.458019e-08 8.508527e-09 2.325205e-09\n",
            "             [,21]        [,22]        [,23]        [,24]\n",
            " [1,] 1.556310e-10 2.308812e-11 2.179648e-12 9.841218e-14\n",
            " [2,] 3.293938e-09 4.886611e-10 4.613235e-11 2.082899e-12\n",
            " [3,] 3.311527e-08 4.912705e-09 4.637868e-10 2.094021e-11\n",
            " [4,] 2.102659e-07 3.119329e-08 2.944821e-09 1.329602e-10\n",
            " [5,] 9.456862e-07 1.402941e-07 1.324455e-08 5.979980e-10\n",
            " [6,] 3.202479e-06 4.750930e-07 4.485144e-08 2.025065e-09\n",
            " [7,] 8.472578e-06 1.256921e-06 1.186604e-07 5.357575e-09\n",
            " [8,] 1.793225e-05 2.660279e-06 2.511452e-07 1.133933e-08\n",
            " [9,] 3.083738e-05 4.574776e-06 4.318845e-07 1.949980e-08\n",
            "[10,] 4.351164e-05 6.455024e-06 6.093904e-07 2.751428e-08\n",
            "[11,] 5.065093e-05 7.514149e-06 7.093777e-07 3.202876e-08\n",
            "[12,] 4.872861e-05 7.228970e-06 6.824552e-07 3.081319e-08\n",
            "[13,] 3.867538e-05 5.737556e-06 5.416574e-07 2.445610e-08\n",
            "[14,] 2.518665e-05 3.736482e-06 3.527448e-07 1.592660e-08\n",
            "[15,] 1.332692e-05 1.977070e-06 1.866465e-07 8.427183e-09\n",
            "[16,] 5.641298e-06 8.368958e-07 7.900765e-08 3.567235e-09\n",
            "[17,] 1.865599e-06 2.767647e-07 2.612814e-08 1.179698e-09\n",
            "[18,] 4.645352e-07 6.891457e-08 6.505921e-09 2.937456e-10\n",
            "[19,] 8.193259e-08 1.215483e-08 1.147484e-09 5.180950e-11\n",
            "[20,] 9.126880e-09 1.353988e-09 1.278240e-10 5.771318e-12\n",
            "[21,] 4.829272e-10 7.164304e-11 6.763504e-12 3.053756e-13\n"
          ]
        }
      ],
      "source": [
        "result_matrix_p14 <- outer(lista_gr1_p14, lista_gr4_p14, FUN = \"*\")\n",
        "print(result_matrix_p14)"
      ]
    },
    {
      "cell_type": "code",
      "execution_count": 106,
      "metadata": {
        "colab": {
          "base_uri": "https://localhost:8080/"
        },
        "id": "shODJjc6m-z2",
        "outputId": "9e0eb30d-7ec4-484f-db3f-cd7ec78fb8a2"
      },
      "outputs": [
        {
          "output_type": "stream",
          "name": "stdout",
          "text": [
            "      [,1]       [,2]       [,3]       [,4]       [,5]       [,6]      \n",
            " [1,] \"0.000000\" \"0.000000\" \"0.000000\" \"0.000000\" \"0.000000\" \"0.000000\"\n",
            " [2,] \"0.000000\" \"0.000000\" \"0.000000\" \"0.000000\" \"0.000000\" \"0.000000\"\n",
            " [3,] \"0.000000\" \"0.000000\" \"0.000000\" \"0.000000\" \"0.000000\" \"0.000000\"\n",
            " [4,] \"0.000000\" \"0.000000\" \"0.000000\" \"0.000000\" \"0.000001\" \"0.000002\"\n",
            " [5,] \"0.000000\" \"0.000000\" \"0.000000\" \"0.000000\" \"0.000003\" \"0.000010\"\n",
            " [6,] \"0.000000\" \"0.000000\" \"0.000000\" \"0.000002\" \"0.000009\" \"0.000035\"\n",
            " [7,] \"0.000000\" \"0.000000\" \"0.000001\" \"0.000004\" \"0.000023\" \"0.000091\"\n",
            " [8,] \"0.000000\" \"0.000000\" \"0.000001\" \"0.000009\" \"0.000049\" \"0.000193\"\n",
            " [9,] \"0.000000\" \"0.000000\" \"0.000002\" \"0.000016\" \"0.000084\" \"0.000333\"\n",
            "[10,] \"0.000000\" \"0.000000\" \"0.000003\" \"0.000023\" \"0.000119\" \"0.000469\"\n",
            "[11,] \"0.000000\" \"0.000000\" \"0.000004\" \"0.000027\" \"0.000138\" \"0.000546\"\n",
            "[12,] \"0.000000\" \"0.000000\" \"0.000004\" \"0.000026\" \"0.000133\" \"0.000526\"\n",
            "[13,] \"0.000000\" \"0.000000\" \"0.000003\" \"0.000020\" \"0.000106\" \"0.000417\"\n",
            "[14,] \"0.000000\" \"0.000000\" \"0.000002\" \"0.000013\" \"0.000069\" \"0.000272\"\n",
            "[15,] \"0.000000\" \"0.000000\" \"0.000001\" \"0.000007\" \"0.000036\" \"0.000144\"\n",
            "[16,] \"0.000000\" \"0.000000\" \"0.000000\" \"0.000003\" \"0.000015\" \"0.000061\"\n",
            "[17,] \"0.000000\" \"0.000000\" \"0.000000\" \"0.000001\" \"0.000005\" \"0.000020\"\n",
            "[18,] \"0.000000\" \"0.000000\" \"0.000000\" \"0.000000\" \"0.000001\" \"0.000005\"\n",
            "[19,] \"0.000000\" \"0.000000\" \"0.000000\" \"0.000000\" \"0.000000\" \"0.000001\"\n",
            "[20,] \"0.000000\" \"0.000000\" \"0.000000\" \"0.000000\" \"0.000000\" \"0.000000\"\n",
            "[21,] \"0.000000\" \"0.000000\" \"0.000000\" \"0.000000\" \"0.000000\" \"0.000000\"\n",
            "      [,7]       [,8]       [,9]       [,10]      [,11]      [,12]     \n",
            " [1,] \"0.000000\" \"0.000000\" \"0.000000\" \"0.000000\" \"0.000000\" \"0.000000\"\n",
            " [2,] \"0.000000\" \"0.000000\" \"0.000001\" \"0.000001\" \"0.000001\" \"0.000002\"\n",
            " [3,] \"0.000001\" \"0.000003\" \"0.000006\" \"0.000010\" \"0.000015\" \"0.000018\"\n",
            " [4,] \"0.000007\" \"0.000018\" \"0.000037\" \"0.000064\" \"0.000093\" \"0.000114\"\n",
            " [5,] \"0.000032\" \"0.000080\" \"0.000166\" \"0.000288\" \"0.000419\" \"0.000514\"\n",
            " [6,] \"0.000108\" \"0.000271\" \"0.000564\" \"0.000976\" \"0.001418\" \"0.001741\"\n",
            " [7,] \"0.000285\" \"0.000718\" \"0.001491\" \"0.002581\" \"0.003753\" \"0.004606\"\n",
            " [8,] \"0.000603\" \"0.001520\" \"0.003156\" \"0.005463\" \"0.007943\" \"0.009748\"\n",
            " [9,] \"0.001036\" \"0.002614\" \"0.005428\" \"0.009395\" \"0.013659\" \"0.016763\"\n",
            "[10,] \"0.001462\" \"0.003688\" \"0.007659\" \"0.013256\" \"0.019272\" \"0.023652\"\n",
            "[11,] \"0.001702\" \"0.004293\" \"0.008916\" \"0.015431\" \"0.022434\" \"0.027533\"\n",
            "[12,] \"0.001638\" \"0.004130\" \"0.008577\" \"0.014845\" \"0.021583\" \"0.026488\"\n",
            "[13,] \"0.001300\" \"0.003278\" \"0.006808\" \"0.011783\" \"0.017130\" \"0.021023\"\n",
            "[14,] \"0.000846\" \"0.002135\" \"0.004433\" \"0.007673\" \"0.011156\" \"0.013691\"\n",
            "[15,] \"0.000448\" \"0.001129\" \"0.002346\" \"0.004060\" \"0.005903\" \"0.007244\"\n",
            "[16,] \"0.000190\" \"0.000478\" \"0.000993\" \"0.001719\" \"0.002499\" \"0.003067\"\n",
            "[17,] \"0.000063\" \"0.000158\" \"0.000328\" \"0.000568\" \"0.000826\" \"0.001014\"\n",
            "[18,] \"0.000016\" \"0.000039\" \"0.000082\" \"0.000142\" \"0.000206\" \"0.000253\"\n",
            "[19,] \"0.000003\" \"0.000007\" \"0.000014\" \"0.000025\" \"0.000036\" \"0.000045\"\n",
            "[20,] \"0.000000\" \"0.000001\" \"0.000002\" \"0.000003\" \"0.000004\" \"0.000005\"\n",
            "[21,] \"0.000000\" \"0.000000\" \"0.000000\" \"0.000000\" \"0.000000\" \"0.000000\"\n",
            "      [,13]      [,14]      [,15]      [,16]      [,17]      [,18]     \n",
            " [1,] \"0.000000\" \"0.000000\" \"0.000000\" \"0.000000\" \"0.000000\" \"0.000000\"\n",
            " [2,] \"0.000002\" \"0.000002\" \"0.000001\" \"0.000001\" \"0.000000\" \"0.000000\"\n",
            " [3,] \"0.000019\" \"0.000016\" \"0.000012\" \"0.000008\" \"0.000004\" \"0.000002\"\n",
            " [4,] \"0.000119\" \"0.000104\" \"0.000077\" \"0.000048\" \"0.000025\" \"0.000011\"\n",
            " [5,] \"0.000534\" \"0.000469\" \"0.000348\" \"0.000217\" \"0.000113\" \"0.000048\"\n",
            " [6,] \"0.001808\" \"0.001588\" \"0.001178\" \"0.000734\" \"0.000381\" \"0.000163\"\n",
            " [7,] \"0.004783\" \"0.004203\" \"0.003117\" \"0.001942\" \"0.001009\" \"0.000431\"\n",
            " [8,] \"0.010123\" \"0.008895\" \"0.006598\" \"0.004111\" \"0.002135\" \"0.000913\"\n",
            " [9,] \"0.017408\" \"0.015296\" \"0.011346\" \"0.007069\" \"0.003671\" \"0.001570\"\n",
            "[10,] \"0.024562\" \"0.021583\" \"0.016009\" \"0.009975\" \"0.005179\" \"0.002215\"\n",
            "[11,] \"0.028592\" \"0.025124\" \"0.018636\" \"0.011612\" \"0.006029\" \"0.002578\"\n",
            "[12,] \"0.027507\" \"0.024170\" \"0.017929\" \"0.011171\" \"0.005800\" \"0.002480\"\n",
            "[13,] \"0.021832\" \"0.019184\" \"0.014230\" \"0.008866\" \"0.004604\" \"0.001969\"\n",
            "[14,] \"0.014218\" \"0.012493\" \"0.009267\" \"0.005774\" \"0.002998\" \"0.001282\"\n",
            "[15,] \"0.007523\" \"0.006610\" \"0.004903\" \"0.003055\" \"0.001586\" \"0.000678\"\n",
            "[16,] \"0.003184\" \"0.002798\" \"0.002076\" \"0.001293\" \"0.000671\" \"0.000287\"\n",
            "[17,] \"0.001053\" \"0.000925\" \"0.000686\" \"0.000428\" \"0.000222\" \"0.000095\"\n",
            "[18,] \"0.000262\" \"0.000230\" \"0.000171\" \"0.000106\" \"0.000055\" \"0.000024\"\n",
            "[19,] \"0.000046\" \"0.000041\" \"0.000030\" \"0.000019\" \"0.000010\" \"0.000004\"\n",
            "[20,] \"0.000005\" \"0.000005\" \"0.000003\" \"0.000002\" \"0.000001\" \"0.000000\"\n",
            "[21,] \"0.000000\" \"0.000000\" \"0.000000\" \"0.000000\" \"0.000000\" \"0.000000\"\n",
            "      [,19]      [,20]      [,21]      [,22]      [,23]      [,24]     \n",
            " [1,] \"0.000000\" \"0.000000\" \"0.000000\" \"0.000000\" \"0.000000\" \"0.000000\"\n",
            " [2,] \"0.000000\" \"0.000000\" \"0.000000\" \"0.000000\" \"0.000000\" \"0.000000\"\n",
            " [3,] \"0.000001\" \"0.000000\" \"0.000000\" \"0.000000\" \"0.000000\" \"0.000000\"\n",
            " [4,] \"0.000004\" \"0.000001\" \"0.000000\" \"0.000000\" \"0.000000\" \"0.000000\"\n",
            " [5,] \"0.000017\" \"0.000005\" \"0.000001\" \"0.000000\" \"0.000000\" \"0.000000\"\n",
            " [6,] \"0.000056\" \"0.000015\" \"0.000003\" \"0.000000\" \"0.000000\" \"0.000000\"\n",
            " [7,] \"0.000149\" \"0.000041\" \"0.000008\" \"0.000001\" \"0.000000\" \"0.000000\"\n",
            " [8,] \"0.000316\" \"0.000086\" \"0.000018\" \"0.000003\" \"0.000000\" \"0.000000\"\n",
            " [9,] \"0.000543\" \"0.000148\" \"0.000031\" \"0.000005\" \"0.000000\" \"0.000000\"\n",
            "[10,] \"0.000767\" \"0.000210\" \"0.000044\" \"0.000006\" \"0.000001\" \"0.000000\"\n",
            "[11,] \"0.000892\" \"0.000244\" \"0.000051\" \"0.000008\" \"0.000001\" \"0.000000\"\n",
            "[12,] \"0.000859\" \"0.000235\" \"0.000049\" \"0.000007\" \"0.000001\" \"0.000000\"\n",
            "[13,] \"0.000681\" \"0.000186\" \"0.000039\" \"0.000006\" \"0.000001\" \"0.000000\"\n",
            "[14,] \"0.000444\" \"0.000121\" \"0.000025\" \"0.000004\" \"0.000000\" \"0.000000\"\n",
            "[15,] \"0.000235\" \"0.000064\" \"0.000013\" \"0.000002\" \"0.000000\" \"0.000000\"\n",
            "[16,] \"0.000099\" \"0.000027\" \"0.000006\" \"0.000001\" \"0.000000\" \"0.000000\"\n",
            "[17,] \"0.000033\" \"0.000009\" \"0.000002\" \"0.000000\" \"0.000000\" \"0.000000\"\n",
            "[18,] \"0.000008\" \"0.000002\" \"0.000000\" \"0.000000\" \"0.000000\" \"0.000000\"\n",
            "[19,] \"0.000001\" \"0.000000\" \"0.000000\" \"0.000000\" \"0.000000\" \"0.000000\"\n",
            "[20,] \"0.000000\" \"0.000000\" \"0.000000\" \"0.000000\" \"0.000000\" \"0.000000\"\n",
            "[21,] \"0.000000\" \"0.000000\" \"0.000000\" \"0.000000\" \"0.000000\" \"0.000000\"\n"
          ]
        }
      ],
      "source": [
        "result_matrix_p14 <- round(result_matrix_p14, digits = 6)\n",
        "result_matrix_p14 <- format(result_matrix_p14, scientific = FALSE)\n",
        "print(result_matrix_p14)\n",
        "write.matrix(result_matrix_p14, file=\"M_p14.csv\")"
      ]
    },
    {
      "cell_type": "code",
      "execution_count": 107,
      "metadata": {
        "colab": {
          "base_uri": "https://localhost:8080/"
        },
        "id": "XB2C9x6UJLVk",
        "outputId": "267bd807-32ae-41e3-c6cd-6c0c99a5fd27"
      },
      "outputs": [
        {
          "output_type": "stream",
          "name": "stdout",
          "text": [
            "[1] 3.833333\n",
            " [1] 0.00000000 0.00000000 0.00000000 0.00000000 0.01086957 0.07608696\n",
            " [7] 0.14130435 0.20652174 0.27173913 0.33695652 0.40217391 0.46739130\n",
            "[13] 0.53260870 0.59782609 0.66304348 0.72826087 0.79347826 0.85869565\n",
            "[19] 0.92391304 0.98913043 1.00000000 1.00000000 1.00000000 1.00000000\n"
          ]
        }
      ],
      "source": [
        "l4total <- 0:23\n",
        "\n",
        "x <- subtract_1_6_group4\n",
        "print(x)\n",
        "\n",
        "process_value <- function(value, x) {\n",
        "  if (value < x) {\n",
        "    return(0)\n",
        "  } else {\n",
        "    return(value - x)\n",
        "  }\n",
        "}\n",
        "\n",
        "pest4_list <- vector(\"numeric\", length = 0)\n",
        "\n",
        "for (i in l4total) {\n",
        "  j <- 23 - i\n",
        "  i <- process_value(i, x)\n",
        "  j <- process_value(j, x)\n",
        "  p <- ifelse(i + j == 0, 0, i / (i + j))\n",
        "  pest4_list <- c(pest4_list, p)\n",
        "}\n",
        "\n",
        "print(pest4_list)"
      ]
    },
    {
      "cell_type": "code",
      "execution_count": 108,
      "metadata": {
        "colab": {
          "base_uri": "https://localhost:8080/"
        },
        "id": "R9V6yuwccbKo",
        "outputId": "c36241f9-cd5f-42fc-9834-12ebe999b5e9"
      },
      "outputs": [
        {
          "output_type": "stream",
          "name": "stdout",
          "text": [
            " [1] 0.00 0.05 0.10 0.15 0.20 0.25 0.30 0.35 0.40 0.45 0.50 0.55 0.60 0.65 0.70\n",
            "[16] 0.75 0.80 0.85 0.90 0.95 1.00\n"
          ]
        }
      ],
      "source": [
        "num_vector_1 <- 0:20\n",
        "\n",
        "pest1_list <- num_vector_1 / 20\n",
        "\n",
        "print(pest1_list)"
      ]
    },
    {
      "cell_type": "code",
      "execution_count": 109,
      "metadata": {
        "colab": {
          "base_uri": "https://localhost:8080/"
        },
        "id": "Qo6N5E_kc2ya",
        "outputId": "98ec9fa2-7293-4a89-afce-a081c96390ad"
      },
      "outputs": [
        {
          "output_type": "stream",
          "name": "stdout",
          "text": [
            "[1] \"Difference matrix_14 (p4 - p1):\"\n",
            "       [,1]  [,2]  [,3]  [,4]        [,5]        [,6]         [,7]         [,8]\n",
            " [1,]  0.00  0.00  0.00  0.00  0.01086957  0.07608696  0.141304348  0.206521739\n",
            " [2,] -0.05 -0.05 -0.05 -0.05 -0.03913043  0.02608696  0.091304348  0.156521739\n",
            " [3,] -0.10 -0.10 -0.10 -0.10 -0.08913043 -0.02391304  0.041304348  0.106521739\n",
            " [4,] -0.15 -0.15 -0.15 -0.15 -0.13913043 -0.07391304 -0.008695652  0.056521739\n",
            " [5,] -0.20 -0.20 -0.20 -0.20 -0.18913043 -0.12391304 -0.058695652  0.006521739\n",
            " [6,] -0.25 -0.25 -0.25 -0.25 -0.23913043 -0.17391304 -0.108695652 -0.043478261\n",
            " [7,] -0.30 -0.30 -0.30 -0.30 -0.28913043 -0.22391304 -0.158695652 -0.093478261\n",
            " [8,] -0.35 -0.35 -0.35 -0.35 -0.33913043 -0.27391304 -0.208695652 -0.143478261\n",
            " [9,] -0.40 -0.40 -0.40 -0.40 -0.38913043 -0.32391304 -0.258695652 -0.193478261\n",
            "[10,] -0.45 -0.45 -0.45 -0.45 -0.43913043 -0.37391304 -0.308695652 -0.243478261\n",
            "[11,] -0.50 -0.50 -0.50 -0.50 -0.48913043 -0.42391304 -0.358695652 -0.293478261\n",
            "[12,] -0.55 -0.55 -0.55 -0.55 -0.53913043 -0.47391304 -0.408695652 -0.343478261\n",
            "[13,] -0.60 -0.60 -0.60 -0.60 -0.58913043 -0.52391304 -0.458695652 -0.393478261\n",
            "[14,] -0.65 -0.65 -0.65 -0.65 -0.63913043 -0.57391304 -0.508695652 -0.443478261\n",
            "[15,] -0.70 -0.70 -0.70 -0.70 -0.68913043 -0.62391304 -0.558695652 -0.493478261\n",
            "[16,] -0.75 -0.75 -0.75 -0.75 -0.73913043 -0.67391304 -0.608695652 -0.543478261\n",
            "[17,] -0.80 -0.80 -0.80 -0.80 -0.78913043 -0.72391304 -0.658695652 -0.593478261\n",
            "[18,] -0.85 -0.85 -0.85 -0.85 -0.83913043 -0.77391304 -0.708695652 -0.643478261\n",
            "[19,] -0.90 -0.90 -0.90 -0.90 -0.88913043 -0.82391304 -0.758695652 -0.693478261\n",
            "[20,] -0.95 -0.95 -0.95 -0.95 -0.93913043 -0.87391304 -0.808695652 -0.743478261\n",
            "[21,] -1.00 -1.00 -1.00 -1.00 -0.98913043 -0.92391304 -0.858695652 -0.793478261\n",
            "             [,9]       [,10]        [,11]      [,12]      [,13]        [,14]\n",
            " [1,]  0.27173913  0.33695652  0.402173913  0.4673913  0.5326087  0.597826087\n",
            " [2,]  0.22173913  0.28695652  0.352173913  0.4173913  0.4826087  0.547826087\n",
            " [3,]  0.17173913  0.23695652  0.302173913  0.3673913  0.4326087  0.497826087\n",
            " [4,]  0.12173913  0.18695652  0.252173913  0.3173913  0.3826087  0.447826087\n",
            " [5,]  0.07173913  0.13695652  0.202173913  0.2673913  0.3326087  0.397826087\n",
            " [6,]  0.02173913  0.08695652  0.152173913  0.2173913  0.2826087  0.347826087\n",
            " [7,] -0.02826087  0.03695652  0.102173913  0.1673913  0.2326087  0.297826087\n",
            " [8,] -0.07826087 -0.01304348  0.052173913  0.1173913  0.1826087  0.247826087\n",
            " [9,] -0.12826087 -0.06304348  0.002173913  0.0673913  0.1326087  0.197826087\n",
            "[10,] -0.17826087 -0.11304348 -0.047826087  0.0173913  0.0826087  0.147826087\n",
            "[11,] -0.22826087 -0.16304348 -0.097826087 -0.0326087  0.0326087  0.097826087\n",
            "[12,] -0.27826087 -0.21304348 -0.147826087 -0.0826087 -0.0173913  0.047826087\n",
            "[13,] -0.32826087 -0.26304348 -0.197826087 -0.1326087 -0.0673913 -0.002173913\n",
            "[14,] -0.37826087 -0.31304348 -0.247826087 -0.1826087 -0.1173913 -0.052173913\n",
            "[15,] -0.42826087 -0.36304348 -0.297826087 -0.2326087 -0.1673913 -0.102173913\n",
            "[16,] -0.47826087 -0.41304348 -0.347826087 -0.2826087 -0.2173913 -0.152173913\n",
            "[17,] -0.52826087 -0.46304348 -0.397826087 -0.3326087 -0.2673913 -0.202173913\n",
            "[18,] -0.57826087 -0.51304348 -0.447826087 -0.3826087 -0.3173913 -0.252173913\n",
            "[19,] -0.62826087 -0.56304348 -0.497826087 -0.4326087 -0.3673913 -0.302173913\n",
            "[20,] -0.67826087 -0.61304348 -0.547826087 -0.4826087 -0.4173913 -0.352173913\n",
            "[21,] -0.72826087 -0.66304348 -0.597826087 -0.5326087 -0.4673913 -0.402173913\n",
            "            [,15]       [,16]        [,17]        [,18]       [,19]       [,20]\n",
            " [1,]  0.66304348  0.72826087  0.793478261  0.858695652  0.92391304  0.98913043\n",
            " [2,]  0.61304348  0.67826087  0.743478261  0.808695652  0.87391304  0.93913043\n",
            " [3,]  0.56304348  0.62826087  0.693478261  0.758695652  0.82391304  0.88913043\n",
            " [4,]  0.51304348  0.57826087  0.643478261  0.708695652  0.77391304  0.83913043\n",
            " [5,]  0.46304348  0.52826087  0.593478261  0.658695652  0.72391304  0.78913043\n",
            " [6,]  0.41304348  0.47826087  0.543478261  0.608695652  0.67391304  0.73913043\n",
            " [7,]  0.36304348  0.42826087  0.493478261  0.558695652  0.62391304  0.68913043\n",
            " [8,]  0.31304348  0.37826087  0.443478261  0.508695652  0.57391304  0.63913043\n",
            " [9,]  0.26304348  0.32826087  0.393478261  0.458695652  0.52391304  0.58913043\n",
            "[10,]  0.21304348  0.27826087  0.343478261  0.408695652  0.47391304  0.53913043\n",
            "[11,]  0.16304348  0.22826087  0.293478261  0.358695652  0.42391304  0.48913043\n",
            "[12,]  0.11304348  0.17826087  0.243478261  0.308695652  0.37391304  0.43913043\n",
            "[13,]  0.06304348  0.12826087  0.193478261  0.258695652  0.32391304  0.38913043\n",
            "[14,]  0.01304348  0.07826087  0.143478261  0.208695652  0.27391304  0.33913043\n",
            "[15,] -0.03695652  0.02826087  0.093478261  0.158695652  0.22391304  0.28913043\n",
            "[16,] -0.08695652 -0.02173913  0.043478261  0.108695652  0.17391304  0.23913043\n",
            "[17,] -0.13695652 -0.07173913 -0.006521739  0.058695652  0.12391304  0.18913043\n",
            "[18,] -0.18695652 -0.12173913 -0.056521739  0.008695652  0.07391304  0.13913043\n",
            "[19,] -0.23695652 -0.17173913 -0.106521739 -0.041304348  0.02391304  0.08913043\n",
            "[20,] -0.28695652 -0.22173913 -0.156521739 -0.091304348 -0.02608696  0.03913043\n",
            "[21,] -0.33695652 -0.27173913 -0.206521739 -0.141304348 -0.07608696 -0.01086957\n",
            "      [,21] [,22] [,23] [,24]\n",
            " [1,]  1.00  1.00  1.00  1.00\n",
            " [2,]  0.95  0.95  0.95  0.95\n",
            " [3,]  0.90  0.90  0.90  0.90\n",
            " [4,]  0.85  0.85  0.85  0.85\n",
            " [5,]  0.80  0.80  0.80  0.80\n",
            " [6,]  0.75  0.75  0.75  0.75\n",
            " [7,]  0.70  0.70  0.70  0.70\n",
            " [8,]  0.65  0.65  0.65  0.65\n",
            " [9,]  0.60  0.60  0.60  0.60\n",
            "[10,]  0.55  0.55  0.55  0.55\n",
            "[11,]  0.50  0.50  0.50  0.50\n",
            "[12,]  0.45  0.45  0.45  0.45\n",
            "[13,]  0.40  0.40  0.40  0.40\n",
            "[14,]  0.35  0.35  0.35  0.35\n",
            "[15,]  0.30  0.30  0.30  0.30\n",
            "[16,]  0.25  0.25  0.25  0.25\n",
            "[17,]  0.20  0.20  0.20  0.20\n",
            "[18,]  0.15  0.15  0.15  0.15\n",
            "[19,]  0.10  0.10  0.10  0.10\n",
            "[20,]  0.05  0.05  0.05  0.05\n",
            "[21,]  0.00  0.00  0.00  0.00\n"
          ]
        }
      ],
      "source": [
        "difference_matrix_14 <- outer(pest1_list, pest4_list, FUN = function(p1, p4) p4 - p1)\n",
        "\n",
        "print(\"Difference matrix_14 (p4 - p1):\")\n",
        "print(difference_matrix_14)"
      ]
    },
    {
      "cell_type": "markdown",
      "source": [
        "Create the mask matrix based on the condition p4 - p1 > obs_diff"
      ],
      "metadata": {
        "id": "Xaw0c_mA2M7y"
      }
    },
    {
      "cell_type": "code",
      "execution_count": 110,
      "metadata": {
        "colab": {
          "base_uri": "https://localhost:8080/"
        },
        "id": "n8KjMBp6dfC6",
        "outputId": "e485a45d-d91c-43d0-972c-22928239110b"
      },
      "outputs": [
        {
          "output_type": "stream",
          "name": "stdout",
          "text": [
            "[1] \"Mask matrix (p4 - p1 > observed_diff_p14):\"\n",
            "       [,1]  [,2]  [,3]  [,4]  [,5]  [,6]  [,7]  [,8]  [,9] [,10] [,11] [,12]\n",
            " [1,] FALSE FALSE FALSE FALSE FALSE FALSE FALSE FALSE  TRUE  TRUE  TRUE  TRUE\n",
            " [2,] FALSE FALSE FALSE FALSE FALSE FALSE FALSE FALSE FALSE  TRUE  TRUE  TRUE\n",
            " [3,] FALSE FALSE FALSE FALSE FALSE FALSE FALSE FALSE FALSE FALSE  TRUE  TRUE\n",
            " [4,] FALSE FALSE FALSE FALSE FALSE FALSE FALSE FALSE FALSE FALSE FALSE  TRUE\n",
            " [5,] FALSE FALSE FALSE FALSE FALSE FALSE FALSE FALSE FALSE FALSE FALSE  TRUE\n",
            " [6,] FALSE FALSE FALSE FALSE FALSE FALSE FALSE FALSE FALSE FALSE FALSE FALSE\n",
            " [7,] FALSE FALSE FALSE FALSE FALSE FALSE FALSE FALSE FALSE FALSE FALSE FALSE\n",
            " [8,] FALSE FALSE FALSE FALSE FALSE FALSE FALSE FALSE FALSE FALSE FALSE FALSE\n",
            " [9,] FALSE FALSE FALSE FALSE FALSE FALSE FALSE FALSE FALSE FALSE FALSE FALSE\n",
            "[10,] FALSE FALSE FALSE FALSE FALSE FALSE FALSE FALSE FALSE FALSE FALSE FALSE\n",
            "[11,] FALSE FALSE FALSE FALSE FALSE FALSE FALSE FALSE FALSE FALSE FALSE FALSE\n",
            "[12,] FALSE FALSE FALSE FALSE FALSE FALSE FALSE FALSE FALSE FALSE FALSE FALSE\n",
            "[13,] FALSE FALSE FALSE FALSE FALSE FALSE FALSE FALSE FALSE FALSE FALSE FALSE\n",
            "[14,] FALSE FALSE FALSE FALSE FALSE FALSE FALSE FALSE FALSE FALSE FALSE FALSE\n",
            "[15,] FALSE FALSE FALSE FALSE FALSE FALSE FALSE FALSE FALSE FALSE FALSE FALSE\n",
            "[16,] FALSE FALSE FALSE FALSE FALSE FALSE FALSE FALSE FALSE FALSE FALSE FALSE\n",
            "[17,] FALSE FALSE FALSE FALSE FALSE FALSE FALSE FALSE FALSE FALSE FALSE FALSE\n",
            "[18,] FALSE FALSE FALSE FALSE FALSE FALSE FALSE FALSE FALSE FALSE FALSE FALSE\n",
            "[19,] FALSE FALSE FALSE FALSE FALSE FALSE FALSE FALSE FALSE FALSE FALSE FALSE\n",
            "[20,] FALSE FALSE FALSE FALSE FALSE FALSE FALSE FALSE FALSE FALSE FALSE FALSE\n",
            "[21,] FALSE FALSE FALSE FALSE FALSE FALSE FALSE FALSE FALSE FALSE FALSE FALSE\n",
            "      [,13] [,14] [,15] [,16] [,17] [,18] [,19] [,20] [,21] [,22] [,23] [,24]\n",
            " [1,]  TRUE  TRUE  TRUE  TRUE  TRUE  TRUE  TRUE  TRUE  TRUE  TRUE  TRUE  TRUE\n",
            " [2,]  TRUE  TRUE  TRUE  TRUE  TRUE  TRUE  TRUE  TRUE  TRUE  TRUE  TRUE  TRUE\n",
            " [3,]  TRUE  TRUE  TRUE  TRUE  TRUE  TRUE  TRUE  TRUE  TRUE  TRUE  TRUE  TRUE\n",
            " [4,]  TRUE  TRUE  TRUE  TRUE  TRUE  TRUE  TRUE  TRUE  TRUE  TRUE  TRUE  TRUE\n",
            " [5,]  TRUE  TRUE  TRUE  TRUE  TRUE  TRUE  TRUE  TRUE  TRUE  TRUE  TRUE  TRUE\n",
            " [6,]  TRUE  TRUE  TRUE  TRUE  TRUE  TRUE  TRUE  TRUE  TRUE  TRUE  TRUE  TRUE\n",
            " [7,] FALSE  TRUE  TRUE  TRUE  TRUE  TRUE  TRUE  TRUE  TRUE  TRUE  TRUE  TRUE\n",
            " [8,] FALSE FALSE  TRUE  TRUE  TRUE  TRUE  TRUE  TRUE  TRUE  TRUE  TRUE  TRUE\n",
            " [9,] FALSE FALSE FALSE  TRUE  TRUE  TRUE  TRUE  TRUE  TRUE  TRUE  TRUE  TRUE\n",
            "[10,] FALSE FALSE FALSE  TRUE  TRUE  TRUE  TRUE  TRUE  TRUE  TRUE  TRUE  TRUE\n",
            "[11,] FALSE FALSE FALSE FALSE  TRUE  TRUE  TRUE  TRUE  TRUE  TRUE  TRUE  TRUE\n",
            "[12,] FALSE FALSE FALSE FALSE FALSE  TRUE  TRUE  TRUE  TRUE  TRUE  TRUE  TRUE\n",
            "[13,] FALSE FALSE FALSE FALSE FALSE FALSE  TRUE  TRUE  TRUE  TRUE  TRUE  TRUE\n",
            "[14,] FALSE FALSE FALSE FALSE FALSE FALSE  TRUE  TRUE  TRUE  TRUE  TRUE  TRUE\n",
            "[15,] FALSE FALSE FALSE FALSE FALSE FALSE FALSE  TRUE  TRUE  TRUE  TRUE  TRUE\n",
            "[16,] FALSE FALSE FALSE FALSE FALSE FALSE FALSE FALSE FALSE FALSE FALSE FALSE\n",
            "[17,] FALSE FALSE FALSE FALSE FALSE FALSE FALSE FALSE FALSE FALSE FALSE FALSE\n",
            "[18,] FALSE FALSE FALSE FALSE FALSE FALSE FALSE FALSE FALSE FALSE FALSE FALSE\n",
            "[19,] FALSE FALSE FALSE FALSE FALSE FALSE FALSE FALSE FALSE FALSE FALSE FALSE\n",
            "[20,] FALSE FALSE FALSE FALSE FALSE FALSE FALSE FALSE FALSE FALSE FALSE FALSE\n",
            "[21,] FALSE FALSE FALSE FALSE FALSE FALSE FALSE FALSE FALSE FALSE FALSE FALSE\n"
          ]
        }
      ],
      "source": [
        "mask_14 <- difference_matrix_14 > observed_diff_p14\n",
        "\n",
        "print(\"Mask matrix (p4 - p1 > observed_diff_p14):\")\n",
        "print(mask_14)"
      ]
    },
    {
      "cell_type": "markdown",
      "source": [
        "Apply the mask to the result matrix"
      ],
      "metadata": {
        "id": "CEhXpN4f2vpE"
      }
    },
    {
      "cell_type": "code",
      "execution_count": 113,
      "metadata": {
        "colab": {
          "base_uri": "https://localhost:8080/"
        },
        "id": "akWEcrmQd1rb",
        "outputId": "e8a8c12a-8153-46dc-a81e-23be614af8e5"
      },
      "outputs": [
        {
          "output_type": "stream",
          "name": "stdout",
          "text": [
            "[1] \"Filtered values_14:\"\n",
            "  [1] 0.000000 0.000000 0.000001 0.000000 0.000001 0.000015 0.000000 0.000002\n",
            "  [9] 0.000018 0.000114 0.000514 0.000000 0.000002 0.000019 0.000119 0.000534\n",
            " [17] 0.001808 0.000000 0.000002 0.000016 0.000104 0.000469 0.001588 0.004203\n",
            " [25] 0.000000 0.000001 0.000012 0.000077 0.000348 0.001178 0.003117 0.006598\n",
            " [33] 0.000000 0.000001 0.000008 0.000048 0.000217 0.000734 0.001942 0.004111\n",
            " [41] 0.007069 0.009975 0.000000 0.000000 0.000004 0.000025 0.000113 0.000381\n",
            " [49] 0.001009 0.002135 0.003671 0.005179 0.006029 0.000000 0.000000 0.000002\n",
            " [57] 0.000011 0.000048 0.000163 0.000431 0.000913 0.001570 0.002215 0.002578\n",
            " [65] 0.002480 0.000000 0.000000 0.000001 0.000004 0.000017 0.000056 0.000149\n",
            " [73] 0.000316 0.000543 0.000767 0.000892 0.000859 0.000681 0.000444 0.000000\n",
            " [81] 0.000000 0.000000 0.000001 0.000005 0.000015 0.000041 0.000086 0.000148\n",
            " [89] 0.000210 0.000244 0.000235 0.000186 0.000121 0.000064 0.000000 0.000000\n",
            " [97] 0.000000 0.000000 0.000001 0.000003 0.000008 0.000018 0.000031 0.000044\n",
            "[105] 0.000051 0.000049 0.000039 0.000025 0.000013 0.000000 0.000000 0.000000\n",
            "[113] 0.000000 0.000000 0.000000 0.000001 0.000003 0.000005 0.000006 0.000008\n",
            "[121] 0.000007 0.000006 0.000004 0.000002 0.000000 0.000000 0.000000 0.000000\n",
            "[129] 0.000000 0.000000 0.000000 0.000000 0.000000 0.000001 0.000001 0.000001\n",
            "[137] 0.000001 0.000000 0.000000 0.000000 0.000000 0.000000 0.000000 0.000000\n",
            "[145] 0.000000 0.000000 0.000000 0.000000 0.000000 0.000000 0.000000 0.000000\n",
            "[153] 0.000000 0.000000\n"
          ]
        }
      ],
      "source": [
        "filtered_values_14 <- as.numeric(result_matrix_p14[mask_14])\n",
        "\n",
        "print(\"Filtered values_14:\")\n",
        "print(filtered_values_14)"
      ]
    },
    {
      "cell_type": "code",
      "execution_count": 114,
      "metadata": {
        "colab": {
          "base_uri": "https://localhost:8080/",
          "height": 34
        },
        "id": "WPD0fiJtLvkj",
        "outputId": "f85af646-ced4-485d-ad6f-2d63827bdd12"
      },
      "outputs": [
        {
          "output_type": "display_data",
          "data": {
            "text/html": [
              "0.080335"
            ],
            "text/markdown": "0.080335",
            "text/latex": "0.080335",
            "text/plain": [
              "[1] 0.080335"
            ]
          },
          "metadata": {}
        }
      ],
      "source": [
        "sum(filtered_values_14)"
      ]
    },
    {
      "cell_type": "markdown",
      "metadata": {
        "id": "79AMjsER-lCr"
      },
      "source": [
        "p.value = 0.08 --> cannot reject the null hypothesis --> there are no statistically significant differences between groups 1 and 4."
      ]
    },
    {
      "cell_type": "markdown",
      "source": [
        "#Example for thesis"
      ],
      "metadata": {
        "id": "4W90MdDrxZgX"
      }
    },
    {
      "cell_type": "code",
      "execution_count": 115,
      "metadata": {
        "colab": {
          "base_uri": "https://localhost:8080/"
        },
        "id": "Y5nZ9DXeEfeZ",
        "outputId": "92f2ea77-2d68-451c-cac4-9f8103ccfded"
      },
      "outputs": [
        {
          "output_type": "stream",
          "name": "stdout",
          "text": [
            "[1] 0.4444444\n",
            "[1] 0.35\n",
            "[1] 0 1 2 3 4\n",
            "[1] 0.09525987 0.30483158 0.36579790 0.19509221 0.03901844\n"
          ]
        }
      ],
      "source": [
        "pA = (1+3)/(4+5)\n",
        "print(pA)\n",
        "obs_diff_A = abs(1/4-3/5)\n",
        "print(obs_diff_A)\n",
        "lA <- 0:4\n",
        "print(lA)\n",
        "lista_A <- numeric(length(lA))\n",
        "\n",
        "for (i in lA) {\n",
        "  lista_A[i + 1] <- dbinom(i, size = 4, prob = pA)\n",
        "}\n",
        "\n",
        "print(lista_A)"
      ]
    },
    {
      "cell_type": "code",
      "execution_count": 116,
      "metadata": {
        "colab": {
          "base_uri": "https://localhost:8080/"
        },
        "id": "MMbxKDptHG_1",
        "outputId": "4c1b90ae-c93f-4974-ece1-79f1d442cb98"
      },
      "outputs": [
        {
          "output_type": "stream",
          "name": "stdout",
          "text": [
            "[1] 0.05292215 0.21168860 0.33870176 0.27096140 0.10838456 0.01734153\n"
          ]
        }
      ],
      "source": [
        "lB <- 0:5\n",
        "\n",
        "lista_B <- numeric(length(lB))\n",
        "\n",
        "for (i in lB) {\n",
        "  lista_B[i + 1] <- dbinom(i, size = 5, prob = pA)\n",
        "}\n",
        "\n",
        "print(lista_B)"
      ]
    },
    {
      "cell_type": "code",
      "execution_count": 117,
      "metadata": {
        "colab": {
          "base_uri": "https://localhost:8080/"
        },
        "id": "Ou8IShI7H8rc",
        "outputId": "3b94db40-5118-4d19-d18c-f51ab2b59d34"
      },
      "outputs": [
        {
          "output_type": "stream",
          "name": "stdout",
          "text": [
            "            [,1]        [,2]       [,3]       [,4]        [,5]         [,6]\n",
            "[1,] 0.005041357 0.020165428 0.03226468 0.02581175 0.010324699 0.0016519519\n",
            "[2,] 0.016132342 0.064529370 0.10324699 0.08259759 0.033039037 0.0052862460\n",
            "[3,] 0.019358811 0.077435244 0.12389639 0.09911711 0.039646845 0.0063434952\n",
            "[4,] 0.010324699 0.041298797 0.06607807 0.05286246 0.021144984 0.0033831974\n",
            "[5,] 0.002064940 0.008259759 0.01321561 0.01057249 0.004228997 0.0006766395\n"
          ]
        }
      ],
      "source": [
        "m<- outer(lista_A, lista_B, FUN = \"*\")\n",
        "print(m)"
      ]
    },
    {
      "cell_type": "code",
      "execution_count": 118,
      "metadata": {
        "id": "9OZ_u7wGL-ND"
      },
      "outputs": [],
      "source": [
        "rounded_matrix <- round(m, digits = 4)"
      ]
    },
    {
      "cell_type": "code",
      "execution_count": 119,
      "metadata": {
        "colab": {
          "base_uri": "https://localhost:8080/"
        },
        "id": "FOimV9g0QX-g",
        "outputId": "d60c151a-3be6-41a4-ab41-f0b115451221"
      },
      "outputs": [
        {
          "output_type": "stream",
          "name": "stdout",
          "text": [
            "       [,1]   [,2]   [,3]   [,4]   [,5]   [,6]\n",
            "[1,] 0.0050 0.0202 0.0323 0.0258 0.0103 0.0017\n",
            "[2,] 0.0161 0.0645 0.1032 0.0826 0.0330 0.0053\n",
            "[3,] 0.0194 0.0774 0.1239 0.0991 0.0396 0.0063\n",
            "[4,] 0.0103 0.0413 0.0661 0.0529 0.0211 0.0034\n",
            "[5,] 0.0021 0.0083 0.0132 0.0106 0.0042 0.0007\n"
          ]
        }
      ],
      "source": [
        "print(rounded_matrix)"
      ]
    },
    {
      "cell_type": "code",
      "execution_count": 120,
      "metadata": {
        "colab": {
          "base_uri": "https://localhost:8080/",
          "height": 176
        },
        "id": "4WLv7XF5yc2w",
        "outputId": "ef5163b2-fbfa-4633-828e-8971f6fa2013"
      },
      "outputs": [
        {
          "output_type": "stream",
          "name": "stdout",
          "text": [
            "      [,1]  [,2]  [,3]  [,4]  [,5] [,6]\n",
            "[1,]  0.00  0.20  0.40  0.60  0.80 1.00\n",
            "[2,] -0.25 -0.05  0.15  0.35  0.55 0.75\n",
            "[3,] -0.50 -0.30 -0.10  0.10  0.30 0.50\n",
            "[4,] -0.75 -0.55 -0.35 -0.15  0.05 0.25\n",
            "[5,] -1.00 -0.80 -0.60 -0.40 -0.20 0.00\n"
          ]
        },
        {
          "output_type": "error",
          "ename": "ERROR",
          "evalue": "Error in m[mask_AB]: only 0's may be mixed with negative subscripts\n",
          "traceback": [
            "Error in m[mask_AB]: only 0's may be mixed with negative subscripts\nTraceback:\n"
          ]
        }
      ],
      "source": [
        "n_rows_AB <- nrow(m)\n",
        "n_cols_AB <- ncol(m)\n",
        "mask_AB <- outer(1:n_rows_AB, 1:n_cols_AB, FUN = function(i, j) (((j-1) / 5) - ((i-1) / 4)))\n",
        "print(mask_AB)\n",
        "final_values_AB <- m[mask_AB]\n",
        "\n",
        "print(final_values_AB)"
      ]
    },
    {
      "cell_type": "code",
      "execution_count": 121,
      "metadata": {
        "colab": {
          "base_uri": "https://localhost:8080/"
        },
        "id": "5Uu9ha0VQmbg",
        "outputId": "14d9576b-153b-456a-ca39-c75005524292"
      },
      "outputs": [
        {
          "output_type": "stream",
          "name": "stdout",
          "text": [
            "      [,1]  [,2]  [,3]  [,4]  [,5]  [,6]\n",
            "[1,] FALSE FALSE  TRUE  TRUE  TRUE  TRUE\n",
            "[2,] FALSE FALSE FALSE  TRUE  TRUE  TRUE\n",
            "[3,] FALSE FALSE FALSE FALSE FALSE  TRUE\n",
            "[4,] FALSE FALSE FALSE FALSE FALSE FALSE\n",
            "[5,] FALSE FALSE FALSE FALSE FALSE FALSE\n",
            "[1] 0.032264685 0.025811748 0.082597593 0.010324699 0.033039037 0.001651952\n",
            "[7] 0.005286246 0.006343495\n"
          ]
        }
      ],
      "source": [
        "n_rows_AB <- nrow(m)\n",
        "n_cols_AB <- ncol(m)\n",
        "mask_AB <- outer(1:n_rows_AB, 1:n_cols_AB, FUN = function(i, j) (((j-1) / 5) - ((i-1) / 4))  >= obs_diff_A)\n",
        "print(mask_AB)\n",
        "final_values_AB <- m[mask_AB]\n",
        "\n",
        "print(final_values_AB)"
      ]
    },
    {
      "cell_type": "code",
      "execution_count": 122,
      "metadata": {
        "colab": {
          "base_uri": "https://localhost:8080/",
          "height": 34
        },
        "id": "6l9NXEiHZOC6",
        "outputId": "045bd652-e193-4e30-abcf-a4b3acebc922"
      },
      "outputs": [
        {
          "output_type": "display_data",
          "data": {
            "text/html": [
              "0.197319455657391"
            ],
            "text/markdown": "0.197319455657391",
            "text/latex": "0.197319455657391",
            "text/plain": [
              "[1] 0.1973195"
            ]
          },
          "metadata": {}
        }
      ],
      "source": [
        " sum(final_values_AB)"
      ]
    },
    {
      "cell_type": "code",
      "execution_count": 123,
      "metadata": {
        "id": "jgl8wXMMM8ms"
      },
      "outputs": [],
      "source": [
        "pobsC = 1/4"
      ]
    },
    {
      "cell_type": "code",
      "execution_count": 124,
      "metadata": {
        "colab": {
          "base_uri": "https://localhost:8080/",
          "height": 34
        },
        "id": "Awso6ZEIM8uK",
        "outputId": "9d03ec7a-b0b6-4838-8115-505756b64ab5"
      },
      "outputs": [
        {
          "output_type": "display_data",
          "data": {
            "text/html": [
              "0.65"
            ],
            "text/markdown": "0.65",
            "text/latex": "0.65",
            "text/plain": [
              "[1] 0.65"
            ]
          },
          "metadata": {}
        }
      ],
      "source": [
        "pestD = (13/6)/(20/6)\n",
        "pestD"
      ]
    },
    {
      "cell_type": "code",
      "execution_count": 125,
      "metadata": {
        "colab": {
          "base_uri": "https://localhost:8080/"
        },
        "id": "BZX4E5p8Na-B",
        "outputId": "cc496d8c-eb50-48bf-c4bd-c6e6cf4cb672"
      },
      "outputs": [
        {
          "output_type": "stream",
          "name": "stdout",
          "text": [
            "[1] 0.4\n"
          ]
        }
      ],
      "source": [
        "obs_diff_CD = pestD-pobsC\n",
        "print(obs_diff_CD)"
      ]
    },
    {
      "cell_type": "code",
      "execution_count": 126,
      "metadata": {
        "colab": {
          "base_uri": "https://localhost:8080/"
        },
        "id": "9Q9oZmiHNytd",
        "outputId": "beedd5ef-56f1-425a-bb38-5d838c0dfba1"
      },
      "outputs": [
        {
          "output_type": "stream",
          "name": "stdout",
          "text": [
            "[1] 0.4318182\n"
          ]
        }
      ],
      "source": [
        "pCD = (1+13/6)/(4+20/6)\n",
        "print(pCD)"
      ]
    },
    {
      "cell_type": "code",
      "execution_count": 127,
      "metadata": {
        "colab": {
          "base_uri": "https://localhost:8080/"
        },
        "id": "AOIwADESN_rr",
        "outputId": "540c1a53-d9a5-4d4b-9dbb-083beaa4d43f"
      },
      "outputs": [
        {
          "output_type": "stream",
          "name": "stdout",
          "text": [
            "[1] 0.4545455\n"
          ]
        }
      ],
      "source": [
        "pcombD = 1/6 + pCD*4/6\n",
        "print(pcombD)"
      ]
    },
    {
      "cell_type": "code",
      "execution_count": 128,
      "metadata": {
        "colab": {
          "base_uri": "https://localhost:8080/"
        },
        "id": "ev5S8dr8J6yg",
        "outputId": "8c265ad3-94e1-4a33-917e-e7cf3559c77a"
      },
      "outputs": [
        {
          "output_type": "stream",
          "name": "stdout",
          "text": [
            "[1] 0 1 2 3 4\n",
            "[1] 0.10421958 0.31682753 0.36118338 0.18299958 0.03476992\n"
          ]
        }
      ],
      "source": [
        "lC <- 0:4\n",
        "print(lC)\n",
        "lista_C <- numeric(length(lC))\n",
        "\n",
        "for (i in lC) {\n",
        "  lista_C[i + 1] <- dbinom(i, size = 4, prob = pCD)\n",
        "}\n",
        "\n",
        "print(lista_C)"
      ]
    },
    {
      "cell_type": "code",
      "execution_count": 129,
      "metadata": {
        "colab": {
          "base_uri": "https://localhost:8080/"
        },
        "id": "J7WeVzKmJ_Eg",
        "outputId": "1af3a85e-e202-4f89-b8e1-1101cd575c1a"
      },
      "outputs": [
        {
          "output_type": "stream",
          "name": "stdout",
          "text": [
            "[1] 0.04828284 0.20117851 0.33529751 0.27941460 0.11642275 0.01940379\n"
          ]
        }
      ],
      "source": [
        "lD <- 0:5\n",
        "\n",
        "lista_D <- numeric(length(lD))\n",
        "\n",
        "for (i in lD) {\n",
        "  lista_D[i + 1] <- dbinom(i, size = 5, prob = pcombD)\n",
        "}\n",
        "\n",
        "print(lista_D)"
      ]
    },
    {
      "cell_type": "code",
      "execution_count": 130,
      "metadata": {
        "colab": {
          "base_uri": "https://localhost:8080/"
        },
        "id": "4bqOFWt-K39T",
        "outputId": "f4bac25d-58c3-49fb-cba0-718fd1be6b03"
      },
      "outputs": [
        {
          "output_type": "stream",
          "name": "stdout",
          "text": [
            "            [,1]        [,2]       [,3]        [,4]       [,5]         [,6]\n",
            "[1,] 0.005032018 0.020966740 0.03494457 0.029120472 0.01213353 0.0020222550\n",
            "[2,] 0.015297334 0.063738890 0.10623148 0.088526236 0.03688593 0.0061476553\n",
            "[3,] 0.017438960 0.072662335 0.12110389 0.100919909 0.04204996 0.0070083270\n",
            "[4,] 0.008835740 0.036815583 0.06135930 0.051132754 0.02130531 0.0035508857\n",
            "[5,] 0.001678791 0.006994961 0.01165827 0.009715223 0.00404801 0.0006746683\n"
          ]
        }
      ],
      "source": [
        "m<- outer(lista_C, lista_D, FUN = \"*\")\n",
        "print(m)"
      ]
    },
    {
      "cell_type": "code",
      "execution_count": 131,
      "metadata": {
        "id": "n2bG8GGdJ_GZ"
      },
      "outputs": [],
      "source": [
        "rounded_matrix <- round(m, digits = 4)"
      ]
    },
    {
      "cell_type": "code",
      "execution_count": 132,
      "metadata": {
        "colab": {
          "base_uri": "https://localhost:8080/"
        },
        "id": "-7BCaez-J_Jz",
        "outputId": "c135a52c-a211-4921-84ea-469fd0974561"
      },
      "outputs": [
        {
          "output_type": "stream",
          "name": "stdout",
          "text": [
            "       [,1]   [,2]   [,3]   [,4]   [,5]   [,6]\n",
            "[1,] 0.0050 0.0210 0.0349 0.0291 0.0121 0.0020\n",
            "[2,] 0.0153 0.0637 0.1062 0.0885 0.0369 0.0061\n",
            "[3,] 0.0174 0.0727 0.1211 0.1009 0.0420 0.0070\n",
            "[4,] 0.0088 0.0368 0.0614 0.0511 0.0213 0.0036\n",
            "[5,] 0.0017 0.0070 0.0117 0.0097 0.0040 0.0007\n"
          ]
        }
      ],
      "source": [
        "print(rounded_matrix)"
      ]
    },
    {
      "cell_type": "markdown",
      "source": [
        "Create the mask matrix based on the condition p3 - p2 > x\n"
      ],
      "metadata": {
        "id": "7H1PHhBb18qO"
      }
    },
    {
      "cell_type": "code",
      "execution_count": 133,
      "metadata": {
        "colab": {
          "base_uri": "https://localhost:8080/"
        },
        "id": "ygAK1hZpRqiQ",
        "outputId": "443fef93-4c0e-4ca3-849d-27e7f36f3ddd"
      },
      "outputs": [
        {
          "output_type": "stream",
          "name": "stdout",
          "text": [
            "[1] \"Mask matrix (p3 - p2 > observed_diff_p23):\"\n",
            "       [,1]  [,2]  [,3]  [,4]  [,5]  [,6]  [,7]  [,8]  [,9] [,10] [,11] [,12]\n",
            " [1,] FALSE FALSE FALSE FALSE FALSE FALSE FALSE  TRUE  TRUE  TRUE  TRUE  TRUE\n",
            " [2,] FALSE FALSE FALSE FALSE FALSE FALSE FALSE  TRUE  TRUE  TRUE  TRUE  TRUE\n",
            " [3,] FALSE FALSE FALSE FALSE FALSE FALSE FALSE FALSE  TRUE  TRUE  TRUE  TRUE\n",
            " [4,] FALSE FALSE FALSE FALSE FALSE FALSE FALSE FALSE FALSE  TRUE  TRUE  TRUE\n",
            " [5,] FALSE FALSE FALSE FALSE FALSE FALSE FALSE FALSE FALSE  TRUE  TRUE  TRUE\n",
            " [6,] FALSE FALSE FALSE FALSE FALSE FALSE FALSE FALSE FALSE FALSE  TRUE  TRUE\n",
            " [7,] FALSE FALSE FALSE FALSE FALSE FALSE FALSE FALSE FALSE FALSE FALSE  TRUE\n",
            " [8,] FALSE FALSE FALSE FALSE FALSE FALSE FALSE FALSE FALSE FALSE FALSE FALSE\n",
            " [9,] FALSE FALSE FALSE FALSE FALSE FALSE FALSE FALSE FALSE FALSE FALSE FALSE\n",
            "[10,] FALSE FALSE FALSE FALSE FALSE FALSE FALSE FALSE FALSE FALSE FALSE FALSE\n",
            "[11,] FALSE FALSE FALSE FALSE FALSE FALSE FALSE FALSE FALSE FALSE FALSE FALSE\n",
            "[12,] FALSE FALSE FALSE FALSE FALSE FALSE FALSE FALSE FALSE FALSE FALSE FALSE\n",
            "[13,] FALSE FALSE FALSE FALSE FALSE FALSE FALSE FALSE FALSE FALSE FALSE FALSE\n",
            "[14,] FALSE FALSE FALSE FALSE FALSE FALSE FALSE FALSE FALSE FALSE FALSE FALSE\n",
            "      [,13] [,14] [,15]\n",
            " [1,]  TRUE  TRUE  TRUE\n",
            " [2,]  TRUE  TRUE  TRUE\n",
            " [3,]  TRUE  TRUE  TRUE\n",
            " [4,]  TRUE  TRUE  TRUE\n",
            " [5,]  TRUE  TRUE  TRUE\n",
            " [6,]  TRUE  TRUE  TRUE\n",
            " [7,]  TRUE  TRUE  TRUE\n",
            " [8,]  TRUE  TRUE  TRUE\n",
            " [9,] FALSE FALSE FALSE\n",
            "[10,] FALSE FALSE FALSE\n",
            "[11,] FALSE FALSE FALSE\n",
            "[12,] FALSE FALSE FALSE\n",
            "[13,] FALSE FALSE FALSE\n",
            "[14,] FALSE FALSE FALSE\n"
          ]
        }
      ],
      "source": [
        "mask <- difference_matrix > 0.4\n",
        "\n",
        "print(\"Mask matrix (p3 - p2 > observed_diff_p23):\")\n",
        "print(mask)"
      ]
    },
    {
      "cell_type": "markdown",
      "source": [
        "Apply the mask to the result matrix and sum the filtered values\n"
      ],
      "metadata": {
        "id": "N7yC3Nx42BzJ"
      }
    },
    {
      "cell_type": "code",
      "execution_count": 135,
      "metadata": {
        "id": "LwsrzrNoRqj5",
        "colab": {
          "base_uri": "https://localhost:8080/",
          "height": 156
        },
        "outputId": "06d0ec7e-9c07-4e7d-8f90-5ec5b72780fd"
      },
      "outputs": [
        {
          "output_type": "stream",
          "name": "stdout",
          "text": [
            "[1] \"Filtered values_23:\"\n",
            " [1] 0.000302 0.002489 0.000196 0.001612 0.006134 0.000097 0.000796 0.003027\n",
            " [9] 0.007038 0.011159 0.000036 0.000294 0.001120 0.002605 0.004130 0.004714\n",
            "[17] 0.000010 0.000079 0.000302 0.000701 0.001112 0.001269 0.001073 0.000002\n",
            "[25] 0.000015 0.000056 0.000130 0.000206 0.000235 0.000199 0.000126 0.000000\n",
            "[33] 0.000002 0.000006 0.000015 0.000023 0.000027 0.000023 0.000014 0.000000\n",
            "[41] 0.000000 0.000000 0.000001 0.000001 0.000001 0.000001 0.000001\n"
          ]
        },
        {
          "output_type": "display_data",
          "data": {
            "text/html": [
              "0.051379"
            ],
            "text/markdown": "0.051379",
            "text/latex": "0.051379",
            "text/plain": [
              "[1] 0.051379"
            ]
          },
          "metadata": {}
        }
      ],
      "source": [
        "filtered_values_23 <- as.numeric(result_matrix_p23[mask])\n",
        "\n",
        "print(\"Filtered values_23:\")\n",
        "print(filtered_values_23)\n",
        "\n",
        "sum(filtered_values_23)"
      ]
    }
  ],
  "metadata": {
    "colab": {
      "provenance": []
    },
    "kernelspec": {
      "display_name": "R",
      "name": "ir"
    },
    "language_info": {
      "name": "R"
    }
  },
  "nbformat": 4,
  "nbformat_minor": 0
}